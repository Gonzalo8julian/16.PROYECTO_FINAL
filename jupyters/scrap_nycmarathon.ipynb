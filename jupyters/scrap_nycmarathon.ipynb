{
 "cells": [
  {
   "cell_type": "code",
   "execution_count": 5,
   "metadata": {},
   "outputs": [
    {
     "name": "stdout",
     "output_type": "stream",
     "text": [
      "\n",
      "✅ Prueba de 10 atletas corregida. Guardado en: 'nyc_marathon_2024_test_10.csv'\n"
     ]
    }
   ],
   "source": [
    "from selenium import webdriver\n",
    "from selenium.webdriver.common.by import By\n",
    "import time\n",
    "import pandas as pd\n",
    "\n",
    "options = webdriver.ChromeOptions()\n",
    "driver = webdriver.Chrome(options=options)\n",
    "\n",
    "driver.get(\"https://results.nyrr.org/event/M2024/finishers\")\n",
    "time.sleep(5)\n",
    "\n",
    "# Cargar hasta que tengamos al menos 10 atletas visibles\n",
    "while True:\n",
    "    atletas = driver.find_elements(By.CSS_SELECTOR, \"div[ng-repeat='eventFinisher in eventFinishers']\")\n",
    "    if len(atletas) >= 10:\n",
    "        break\n",
    "    try:\n",
    "        driver.find_element(By.CSS_SELECTOR, \"button[ng-click='loadMore()']\").click()\n",
    "        time.sleep(2)\n",
    "    except:\n",
    "        break\n",
    "\n",
    "resultados = []\n",
    "for atleta in atletas[:10]:\n",
    "    try:\n",
    "        nombre = atleta.find_element(By.CSS_SELECTOR, \"div.name\").text\n",
    "    except:\n",
    "        nombre = \"Sin nombre\"\n",
    "\n",
    "    try:\n",
    "        edad = atleta.find_element(By.CSS_SELECTOR, \"span[ng-if='eventFinisher.gender || eventFinisher.age']\").text\n",
    "    except:\n",
    "        edad = \"Sin edad\"\n",
    "\n",
    "    try:\n",
    "        pais = atleta.find_element(By.CSS_SELECTOR, \"span[ng-if='eventFinisher.iaaf']\").text\n",
    "    except:\n",
    "        pais = \"Sin país\"\n",
    "\n",
    "    # Extraer \"Place\" y \"Time\" correctamente\n",
    "    spans_result = atleta.find_elements(By.CSS_SELECTOR, \"span.result\")\n",
    "    posicion = \"Sin posición\"\n",
    "    tiempo = \"Sin tiempo\"\n",
    "\n",
    "    for span in spans_result:\n",
    "        try:\n",
    "            texto = span.text.strip()\n",
    "            if \"Place\" in texto:\n",
    "                posicion = span.find_element(By.CSS_SELECTOR, \".num.ng-binding\").text\n",
    "            elif \"Time\" in texto:\n",
    "                tiempo = span.find_element(By.CSS_SELECTOR, \".num.ng-binding\").text\n",
    "        except:\n",
    "            continue\n",
    "\n",
    "    resultados.append({\n",
    "        \"nombre\": nombre,\n",
    "        \"pais\": pais,\n",
    "        \"edad\": edad,\n",
    "        \"posicion\": posicion,\n",
    "        \"tiempo\": tiempo\n",
    "    })\n",
    "\n",
    "driver.quit()\n",
    "\n",
    "df = pd.DataFrame(resultados)\n",
    "print(\"\\n✅ Prueba de 10 atletas corregida. Guardado en: 'nyc_marathon_2024_test_10.csv'\")"
   ]
  },
  {
   "cell_type": "code",
   "execution_count": null,
   "metadata": {},
   "outputs": [],
   "source": []
  },
  {
   "cell_type": "code",
   "execution_count": 6,
   "metadata": {},
   "outputs": [
    {
     "data": {
      "application/vnd.microsoft.datawrangler.viewer.v0+json": {
       "columns": [
        {
         "name": "index",
         "rawType": "int64",
         "type": "integer"
        },
        {
         "name": "nombre",
         "rawType": "object",
         "type": "string"
        },
        {
         "name": "pais",
         "rawType": "object",
         "type": "string"
        },
        {
         "name": "edad",
         "rawType": "object",
         "type": "string"
        },
        {
         "name": "posicion",
         "rawType": "object",
         "type": "string"
        },
        {
         "name": "tiempo",
         "rawType": "object",
         "type": "string"
        }
       ],
       "conversionMethod": "pd.DataFrame",
       "ref": "2f7a376c-d871-4ed3-bf7b-d3afabb27f7e",
       "rows": [
        [
         "0",
         "Abdi Nageeye",
         "NED",
         "M35",
         "1",
         "2:07:39"
        ],
        [
         "1",
         "Evans Chebet",
         "KEN",
         "M35",
         "2",
         "2:07:45"
        ],
        [
         "2",
         "Albert Korir",
         "KEN",
         "M30",
         "3",
         "2:08:00"
        ],
        [
         "3",
         "Tamirat Tola",
         "ETH",
         "M33",
         "4",
         "2:08:12"
        ],
        [
         "4",
         "Geoffrey Kamworor",
         "KEN",
         "M31",
         "5",
         "2:08:50"
        ],
        [
         "5",
         "Conner Mantz",
         "USA",
         "M27",
         "6",
         "2:09:00"
        ],
        [
         "6",
         "Clayton Young",
         "USA",
         "M31",
         "7",
         "2:09:21"
        ],
        [
         "7",
         "Abel Kipchumba",
         "KEN",
         "M30",
         "8",
         "2:10:39"
        ],
        [
         "8",
         "Bashir Abdi",
         "BEL",
         "M35",
         "9",
         "2:10:39"
        ],
        [
         "9",
         "Cj Albertson",
         "USA",
         "M31",
         "10",
         "2:10:57"
        ]
       ],
       "shape": {
        "columns": 5,
        "rows": 10
       }
      },
      "text/html": [
       "<div>\n",
       "<style scoped>\n",
       "    .dataframe tbody tr th:only-of-type {\n",
       "        vertical-align: middle;\n",
       "    }\n",
       "\n",
       "    .dataframe tbody tr th {\n",
       "        vertical-align: top;\n",
       "    }\n",
       "\n",
       "    .dataframe thead th {\n",
       "        text-align: right;\n",
       "    }\n",
       "</style>\n",
       "<table border=\"1\" class=\"dataframe\">\n",
       "  <thead>\n",
       "    <tr style=\"text-align: right;\">\n",
       "      <th></th>\n",
       "      <th>nombre</th>\n",
       "      <th>pais</th>\n",
       "      <th>edad</th>\n",
       "      <th>posicion</th>\n",
       "      <th>tiempo</th>\n",
       "    </tr>\n",
       "  </thead>\n",
       "  <tbody>\n",
       "    <tr>\n",
       "      <th>0</th>\n",
       "      <td>Abdi Nageeye</td>\n",
       "      <td>NED</td>\n",
       "      <td>M35</td>\n",
       "      <td>1</td>\n",
       "      <td>2:07:39</td>\n",
       "    </tr>\n",
       "    <tr>\n",
       "      <th>1</th>\n",
       "      <td>Evans Chebet</td>\n",
       "      <td>KEN</td>\n",
       "      <td>M35</td>\n",
       "      <td>2</td>\n",
       "      <td>2:07:45</td>\n",
       "    </tr>\n",
       "    <tr>\n",
       "      <th>2</th>\n",
       "      <td>Albert Korir</td>\n",
       "      <td>KEN</td>\n",
       "      <td>M30</td>\n",
       "      <td>3</td>\n",
       "      <td>2:08:00</td>\n",
       "    </tr>\n",
       "    <tr>\n",
       "      <th>3</th>\n",
       "      <td>Tamirat Tola</td>\n",
       "      <td>ETH</td>\n",
       "      <td>M33</td>\n",
       "      <td>4</td>\n",
       "      <td>2:08:12</td>\n",
       "    </tr>\n",
       "    <tr>\n",
       "      <th>4</th>\n",
       "      <td>Geoffrey Kamworor</td>\n",
       "      <td>KEN</td>\n",
       "      <td>M31</td>\n",
       "      <td>5</td>\n",
       "      <td>2:08:50</td>\n",
       "    </tr>\n",
       "    <tr>\n",
       "      <th>5</th>\n",
       "      <td>Conner Mantz</td>\n",
       "      <td>USA</td>\n",
       "      <td>M27</td>\n",
       "      <td>6</td>\n",
       "      <td>2:09:00</td>\n",
       "    </tr>\n",
       "    <tr>\n",
       "      <th>6</th>\n",
       "      <td>Clayton Young</td>\n",
       "      <td>USA</td>\n",
       "      <td>M31</td>\n",
       "      <td>7</td>\n",
       "      <td>2:09:21</td>\n",
       "    </tr>\n",
       "    <tr>\n",
       "      <th>7</th>\n",
       "      <td>Abel Kipchumba</td>\n",
       "      <td>KEN</td>\n",
       "      <td>M30</td>\n",
       "      <td>8</td>\n",
       "      <td>2:10:39</td>\n",
       "    </tr>\n",
       "    <tr>\n",
       "      <th>8</th>\n",
       "      <td>Bashir Abdi</td>\n",
       "      <td>BEL</td>\n",
       "      <td>M35</td>\n",
       "      <td>9</td>\n",
       "      <td>2:10:39</td>\n",
       "    </tr>\n",
       "    <tr>\n",
       "      <th>9</th>\n",
       "      <td>Cj Albertson</td>\n",
       "      <td>USA</td>\n",
       "      <td>M31</td>\n",
       "      <td>10</td>\n",
       "      <td>2:10:57</td>\n",
       "    </tr>\n",
       "  </tbody>\n",
       "</table>\n",
       "</div>"
      ],
      "text/plain": [
       "              nombre pais edad posicion   tiempo\n",
       "0       Abdi Nageeye  NED  M35        1  2:07:39\n",
       "1       Evans Chebet  KEN  M35        2  2:07:45\n",
       "2       Albert Korir  KEN  M30        3  2:08:00\n",
       "3       Tamirat Tola  ETH  M33        4  2:08:12\n",
       "4  Geoffrey Kamworor  KEN  M31        5  2:08:50\n",
       "5       Conner Mantz  USA  M27        6  2:09:00\n",
       "6      Clayton Young  USA  M31        7  2:09:21\n",
       "7     Abel Kipchumba  KEN  M30        8  2:10:39\n",
       "8        Bashir Abdi  BEL  M35        9  2:10:39\n",
       "9       Cj Albertson  USA  M31       10  2:10:57"
      ]
     },
     "execution_count": 6,
     "metadata": {},
     "output_type": "execute_result"
    }
   ],
   "source": [
    "df"
   ]
  },
  {
   "cell_type": "markdown",
   "metadata": {},
   "source": [
    "### SCRAPEO FINAL"
   ]
  },
  {
   "cell_type": "code",
   "execution_count": 9,
   "metadata": {},
   "outputs": [
    {
     "name": "stdout",
     "output_type": "stream",
     "text": [
      "\n",
      "📥 Iniciando scrapeo con cambio de página (#page=N)...\n",
      "\n",
      "🔄 Cargando página 1...\n"
     ]
    },
    {
     "name": "stderr",
     "output_type": "stream",
     "text": [
      "Extrayendo atletas página 1: 100%|██████████████████████████████████| 51/51 [00:01<00:00, 31.56it/s]\n"
     ]
    },
    {
     "name": "stdout",
     "output_type": "stream",
     "text": [
      "🔄 Cargando página 2...\n"
     ]
    },
    {
     "name": "stderr",
     "output_type": "stream",
     "text": [
      "Extrayendo atletas página 2: 100%|██████████████████████████████████| 51/51 [00:01<00:00, 31.00it/s]\n"
     ]
    },
    {
     "name": "stdout",
     "output_type": "stream",
     "text": [
      "🔄 Cargando página 3...\n"
     ]
    },
    {
     "name": "stderr",
     "output_type": "stream",
     "text": [
      "Extrayendo atletas página 3: 100%|██████████████████████████████████| 51/51 [00:01<00:00, 33.15it/s]\n"
     ]
    },
    {
     "name": "stdout",
     "output_type": "stream",
     "text": [
      "🔄 Cargando página 4...\n"
     ]
    },
    {
     "name": "stderr",
     "output_type": "stream",
     "text": [
      "Extrayendo atletas página 4: 100%|██████████████████████████████████| 51/51 [00:01<00:00, 34.14it/s]\n"
     ]
    },
    {
     "name": "stdout",
     "output_type": "stream",
     "text": [
      "🔄 Cargando página 5...\n"
     ]
    },
    {
     "name": "stderr",
     "output_type": "stream",
     "text": [
      "Extrayendo atletas página 5: 100%|██████████████████████████████████| 51/51 [00:01<00:00, 32.68it/s]\n"
     ]
    },
    {
     "name": "stdout",
     "output_type": "stream",
     "text": [
      "🔄 Cargando página 6...\n"
     ]
    },
    {
     "name": "stderr",
     "output_type": "stream",
     "text": [
      "Extrayendo atletas página 6: 100%|██████████████████████████████████| 51/51 [00:01<00:00, 32.60it/s]\n"
     ]
    },
    {
     "name": "stdout",
     "output_type": "stream",
     "text": [
      "🔄 Cargando página 7...\n"
     ]
    },
    {
     "name": "stderr",
     "output_type": "stream",
     "text": [
      "Extrayendo atletas página 7: 100%|██████████████████████████████████| 51/51 [00:01<00:00, 31.96it/s]\n"
     ]
    },
    {
     "name": "stdout",
     "output_type": "stream",
     "text": [
      "🔄 Cargando página 8...\n"
     ]
    },
    {
     "name": "stderr",
     "output_type": "stream",
     "text": [
      "Extrayendo atletas página 8: 100%|██████████████████████████████████| 51/51 [00:01<00:00, 34.18it/s]\n"
     ]
    },
    {
     "name": "stdout",
     "output_type": "stream",
     "text": [
      "🔄 Cargando página 9...\n"
     ]
    },
    {
     "name": "stderr",
     "output_type": "stream",
     "text": [
      "Extrayendo atletas página 9: 100%|██████████████████████████████████| 51/51 [00:01<00:00, 32.57it/s]\n"
     ]
    },
    {
     "name": "stdout",
     "output_type": "stream",
     "text": [
      "🔄 Cargando página 10...\n"
     ]
    },
    {
     "name": "stderr",
     "output_type": "stream",
     "text": [
      "Extrayendo atletas página 10: 100%|█████████████████████████████████| 51/51 [00:01<00:00, 33.72it/s]\n"
     ]
    },
    {
     "name": "stdout",
     "output_type": "stream",
     "text": [
      "🔄 Cargando página 11...\n"
     ]
    },
    {
     "name": "stderr",
     "output_type": "stream",
     "text": [
      "Extrayendo atletas página 11: 100%|█████████████████████████████████| 51/51 [00:01<00:00, 34.22it/s]\n"
     ]
    },
    {
     "name": "stdout",
     "output_type": "stream",
     "text": [
      "🔄 Cargando página 12...\n"
     ]
    },
    {
     "name": "stderr",
     "output_type": "stream",
     "text": [
      "Extrayendo atletas página 12: 100%|█████████████████████████████████| 51/51 [00:01<00:00, 33.01it/s]\n"
     ]
    },
    {
     "name": "stdout",
     "output_type": "stream",
     "text": [
      "🔄 Cargando página 13...\n"
     ]
    },
    {
     "name": "stderr",
     "output_type": "stream",
     "text": [
      "Extrayendo atletas página 13: 100%|█████████████████████████████████| 51/51 [00:01<00:00, 33.77it/s]\n"
     ]
    },
    {
     "name": "stdout",
     "output_type": "stream",
     "text": [
      "🔄 Cargando página 14...\n"
     ]
    },
    {
     "name": "stderr",
     "output_type": "stream",
     "text": [
      "Extrayendo atletas página 14: 100%|█████████████████████████████████| 51/51 [00:01<00:00, 33.60it/s]\n"
     ]
    },
    {
     "name": "stdout",
     "output_type": "stream",
     "text": [
      "🔄 Cargando página 15...\n"
     ]
    },
    {
     "name": "stderr",
     "output_type": "stream",
     "text": [
      "Extrayendo atletas página 15: 100%|█████████████████████████████████| 51/51 [00:01<00:00, 34.29it/s]\n"
     ]
    },
    {
     "name": "stdout",
     "output_type": "stream",
     "text": [
      "🔄 Cargando página 16...\n"
     ]
    },
    {
     "name": "stderr",
     "output_type": "stream",
     "text": [
      "Extrayendo atletas página 16: 100%|█████████████████████████████████| 51/51 [00:01<00:00, 33.56it/s]\n"
     ]
    },
    {
     "name": "stdout",
     "output_type": "stream",
     "text": [
      "🔄 Cargando página 17...\n"
     ]
    },
    {
     "name": "stderr",
     "output_type": "stream",
     "text": [
      "Extrayendo atletas página 17: 100%|█████████████████████████████████| 51/51 [00:01<00:00, 33.73it/s]\n"
     ]
    },
    {
     "name": "stdout",
     "output_type": "stream",
     "text": [
      "🔄 Cargando página 18...\n"
     ]
    },
    {
     "name": "stderr",
     "output_type": "stream",
     "text": [
      "Extrayendo atletas página 18: 100%|█████████████████████████████████| 51/51 [00:01<00:00, 31.12it/s]\n"
     ]
    },
    {
     "name": "stdout",
     "output_type": "stream",
     "text": [
      "🔄 Cargando página 19...\n"
     ]
    },
    {
     "name": "stderr",
     "output_type": "stream",
     "text": [
      "Extrayendo atletas página 19: 100%|█████████████████████████████████| 51/51 [00:01<00:00, 28.33it/s]\n"
     ]
    },
    {
     "name": "stdout",
     "output_type": "stream",
     "text": [
      "🔄 Cargando página 20...\n"
     ]
    },
    {
     "name": "stderr",
     "output_type": "stream",
     "text": [
      "Extrayendo atletas página 20: 100%|█████████████████████████████████| 51/51 [00:01<00:00, 30.15it/s]\n"
     ]
    },
    {
     "name": "stdout",
     "output_type": "stream",
     "text": [
      "🔄 Cargando página 21...\n"
     ]
    },
    {
     "name": "stderr",
     "output_type": "stream",
     "text": [
      "Extrayendo atletas página 21: 100%|█████████████████████████████████| 51/51 [00:01<00:00, 31.12it/s]\n"
     ]
    },
    {
     "name": "stdout",
     "output_type": "stream",
     "text": [
      "🔄 Cargando página 22...\n"
     ]
    },
    {
     "name": "stderr",
     "output_type": "stream",
     "text": [
      "Extrayendo atletas página 22: 100%|█████████████████████████████████| 51/51 [00:01<00:00, 27.66it/s]\n"
     ]
    },
    {
     "name": "stdout",
     "output_type": "stream",
     "text": [
      "🔄 Cargando página 23...\n"
     ]
    },
    {
     "name": "stderr",
     "output_type": "stream",
     "text": [
      "Extrayendo atletas página 23: 100%|█████████████████████████████████| 51/51 [00:01<00:00, 29.83it/s]\n"
     ]
    },
    {
     "name": "stdout",
     "output_type": "stream",
     "text": [
      "🔄 Cargando página 24...\n"
     ]
    },
    {
     "name": "stderr",
     "output_type": "stream",
     "text": [
      "Extrayendo atletas página 24: 100%|█████████████████████████████████| 51/51 [00:01<00:00, 31.25it/s]\n"
     ]
    },
    {
     "name": "stdout",
     "output_type": "stream",
     "text": [
      "🔄 Cargando página 25...\n"
     ]
    },
    {
     "name": "stderr",
     "output_type": "stream",
     "text": [
      "Extrayendo atletas página 25: 100%|█████████████████████████████████| 51/51 [00:01<00:00, 31.42it/s]\n"
     ]
    },
    {
     "name": "stdout",
     "output_type": "stream",
     "text": [
      "🔄 Cargando página 26...\n"
     ]
    },
    {
     "name": "stderr",
     "output_type": "stream",
     "text": [
      "Extrayendo atletas página 26: 100%|█████████████████████████████████| 51/51 [00:01<00:00, 31.21it/s]\n"
     ]
    },
    {
     "name": "stdout",
     "output_type": "stream",
     "text": [
      "🔄 Cargando página 27...\n"
     ]
    },
    {
     "name": "stderr",
     "output_type": "stream",
     "text": [
      "Extrayendo atletas página 27: 100%|█████████████████████████████████| 51/51 [00:01<00:00, 28.66it/s]\n"
     ]
    },
    {
     "name": "stdout",
     "output_type": "stream",
     "text": [
      "🔄 Cargando página 28...\n"
     ]
    },
    {
     "name": "stderr",
     "output_type": "stream",
     "text": [
      "Extrayendo atletas página 28: 100%|█████████████████████████████████| 51/51 [00:02<00:00, 23.48it/s]\n"
     ]
    },
    {
     "name": "stdout",
     "output_type": "stream",
     "text": [
      "🔄 Cargando página 29...\n"
     ]
    },
    {
     "name": "stderr",
     "output_type": "stream",
     "text": [
      "Extrayendo atletas página 29: 100%|█████████████████████████████████| 51/51 [00:02<00:00, 23.09it/s]\n"
     ]
    },
    {
     "name": "stdout",
     "output_type": "stream",
     "text": [
      "🔄 Cargando página 30...\n"
     ]
    },
    {
     "name": "stderr",
     "output_type": "stream",
     "text": [
      "Extrayendo atletas página 30: 100%|█████████████████████████████████| 51/51 [00:02<00:00, 22.56it/s]\n"
     ]
    },
    {
     "name": "stdout",
     "output_type": "stream",
     "text": [
      "🔄 Cargando página 31...\n"
     ]
    },
    {
     "name": "stderr",
     "output_type": "stream",
     "text": [
      "Extrayendo atletas página 31: 100%|█████████████████████████████████| 51/51 [00:02<00:00, 24.68it/s]\n"
     ]
    },
    {
     "name": "stdout",
     "output_type": "stream",
     "text": [
      "🔄 Cargando página 32...\n"
     ]
    },
    {
     "name": "stderr",
     "output_type": "stream",
     "text": [
      "Extrayendo atletas página 32: 100%|█████████████████████████████████| 51/51 [00:01<00:00, 25.75it/s]\n"
     ]
    },
    {
     "name": "stdout",
     "output_type": "stream",
     "text": [
      "🔄 Cargando página 33...\n"
     ]
    },
    {
     "name": "stderr",
     "output_type": "stream",
     "text": [
      "Extrayendo atletas página 33: 100%|█████████████████████████████████| 51/51 [00:01<00:00, 26.40it/s]\n"
     ]
    },
    {
     "name": "stdout",
     "output_type": "stream",
     "text": [
      "🔄 Cargando página 34...\n"
     ]
    },
    {
     "name": "stderr",
     "output_type": "stream",
     "text": [
      "Extrayendo atletas página 34: 100%|█████████████████████████████████| 51/51 [00:01<00:00, 25.83it/s]\n"
     ]
    },
    {
     "name": "stdout",
     "output_type": "stream",
     "text": [
      "🔄 Cargando página 35...\n"
     ]
    },
    {
     "name": "stderr",
     "output_type": "stream",
     "text": [
      "Extrayendo atletas página 35: 100%|█████████████████████████████████| 51/51 [00:01<00:00, 26.02it/s]\n"
     ]
    },
    {
     "name": "stdout",
     "output_type": "stream",
     "text": [
      "🔄 Cargando página 36...\n"
     ]
    },
    {
     "name": "stderr",
     "output_type": "stream",
     "text": [
      "Extrayendo atletas página 36: 100%|█████████████████████████████████| 51/51 [00:02<00:00, 25.40it/s]\n"
     ]
    },
    {
     "name": "stdout",
     "output_type": "stream",
     "text": [
      "🔄 Cargando página 37...\n"
     ]
    },
    {
     "name": "stderr",
     "output_type": "stream",
     "text": [
      "Extrayendo atletas página 37: 100%|█████████████████████████████████| 51/51 [00:02<00:00, 24.03it/s]\n"
     ]
    },
    {
     "name": "stdout",
     "output_type": "stream",
     "text": [
      "🔄 Cargando página 38...\n"
     ]
    },
    {
     "name": "stderr",
     "output_type": "stream",
     "text": [
      "Extrayendo atletas página 38: 100%|█████████████████████████████████| 51/51 [00:02<00:00, 23.05it/s]\n"
     ]
    },
    {
     "name": "stdout",
     "output_type": "stream",
     "text": [
      "🔄 Cargando página 39...\n"
     ]
    },
    {
     "name": "stderr",
     "output_type": "stream",
     "text": [
      "Extrayendo atletas página 39: 100%|█████████████████████████████████| 51/51 [00:01<00:00, 26.06it/s]\n"
     ]
    },
    {
     "name": "stdout",
     "output_type": "stream",
     "text": [
      "🔄 Cargando página 40...\n"
     ]
    },
    {
     "name": "stderr",
     "output_type": "stream",
     "text": [
      "Extrayendo atletas página 40: 100%|█████████████████████████████████| 51/51 [00:02<00:00, 25.25it/s]\n"
     ]
    },
    {
     "name": "stdout",
     "output_type": "stream",
     "text": [
      "🔄 Cargando página 41...\n"
     ]
    },
    {
     "name": "stderr",
     "output_type": "stream",
     "text": [
      "Extrayendo atletas página 41: 100%|█████████████████████████████████| 51/51 [00:02<00:00, 23.34it/s]\n"
     ]
    },
    {
     "name": "stdout",
     "output_type": "stream",
     "text": [
      "🔄 Cargando página 42...\n"
     ]
    },
    {
     "name": "stderr",
     "output_type": "stream",
     "text": [
      "Extrayendo atletas página 42: 100%|█████████████████████████████████| 51/51 [00:02<00:00, 25.36it/s]\n"
     ]
    },
    {
     "name": "stdout",
     "output_type": "stream",
     "text": [
      "🔄 Cargando página 43...\n"
     ]
    },
    {
     "name": "stderr",
     "output_type": "stream",
     "text": [
      "Extrayendo atletas página 43: 100%|█████████████████████████████████| 51/51 [00:02<00:00, 24.77it/s]\n"
     ]
    },
    {
     "name": "stdout",
     "output_type": "stream",
     "text": [
      "🔄 Cargando página 44...\n"
     ]
    },
    {
     "name": "stderr",
     "output_type": "stream",
     "text": [
      "Extrayendo atletas página 44: 100%|█████████████████████████████████| 51/51 [00:01<00:00, 25.96it/s]\n"
     ]
    },
    {
     "name": "stdout",
     "output_type": "stream",
     "text": [
      "🔄 Cargando página 45...\n"
     ]
    },
    {
     "name": "stderr",
     "output_type": "stream",
     "text": [
      "Extrayendo atletas página 45: 100%|█████████████████████████████████| 51/51 [00:01<00:00, 26.26it/s]\n"
     ]
    },
    {
     "name": "stdout",
     "output_type": "stream",
     "text": [
      "🔄 Cargando página 46...\n"
     ]
    },
    {
     "name": "stderr",
     "output_type": "stream",
     "text": [
      "Extrayendo atletas página 46: 100%|█████████████████████████████████| 51/51 [00:02<00:00, 24.69it/s]\n"
     ]
    },
    {
     "name": "stdout",
     "output_type": "stream",
     "text": [
      "🔄 Cargando página 47...\n"
     ]
    },
    {
     "name": "stderr",
     "output_type": "stream",
     "text": [
      "Extrayendo atletas página 47: 100%|█████████████████████████████████| 51/51 [00:01<00:00, 25.82it/s]\n"
     ]
    },
    {
     "name": "stdout",
     "output_type": "stream",
     "text": [
      "🔄 Cargando página 48...\n"
     ]
    },
    {
     "name": "stderr",
     "output_type": "stream",
     "text": [
      "Extrayendo atletas página 48: 100%|█████████████████████████████████| 51/51 [00:02<00:00, 25.28it/s]\n"
     ]
    },
    {
     "name": "stdout",
     "output_type": "stream",
     "text": [
      "🔄 Cargando página 49...\n"
     ]
    },
    {
     "name": "stderr",
     "output_type": "stream",
     "text": [
      "Extrayendo atletas página 49: 100%|█████████████████████████████████| 51/51 [00:02<00:00, 25.20it/s]\n"
     ]
    },
    {
     "name": "stdout",
     "output_type": "stream",
     "text": [
      "🔄 Cargando página 50...\n"
     ]
    },
    {
     "name": "stderr",
     "output_type": "stream",
     "text": [
      "Extrayendo atletas página 50: 100%|█████████████████████████████████| 51/51 [00:02<00:00, 24.69it/s]\n"
     ]
    },
    {
     "name": "stdout",
     "output_type": "stream",
     "text": [
      "🔄 Cargando página 51...\n"
     ]
    },
    {
     "name": "stderr",
     "output_type": "stream",
     "text": [
      "Extrayendo atletas página 51: 100%|█████████████████████████████████| 51/51 [00:01<00:00, 27.01it/s]\n"
     ]
    },
    {
     "name": "stdout",
     "output_type": "stream",
     "text": [
      "🔄 Cargando página 52...\n"
     ]
    },
    {
     "name": "stderr",
     "output_type": "stream",
     "text": [
      "Extrayendo atletas página 52: 100%|█████████████████████████████████| 51/51 [00:02<00:00, 25.14it/s]\n"
     ]
    },
    {
     "name": "stdout",
     "output_type": "stream",
     "text": [
      "🔄 Cargando página 53...\n"
     ]
    },
    {
     "name": "stderr",
     "output_type": "stream",
     "text": [
      "Extrayendo atletas página 53: 100%|█████████████████████████████████| 51/51 [00:01<00:00, 26.16it/s]\n"
     ]
    },
    {
     "name": "stdout",
     "output_type": "stream",
     "text": [
      "🔄 Cargando página 54...\n"
     ]
    },
    {
     "name": "stderr",
     "output_type": "stream",
     "text": [
      "Extrayendo atletas página 54: 100%|█████████████████████████████████| 51/51 [00:02<00:00, 25.00it/s]\n"
     ]
    },
    {
     "name": "stdout",
     "output_type": "stream",
     "text": [
      "🔄 Cargando página 55...\n"
     ]
    },
    {
     "name": "stderr",
     "output_type": "stream",
     "text": [
      "Extrayendo atletas página 55: 100%|███████████████████████████████| 102/102 [00:03<00:00, 26.58it/s]\n"
     ]
    },
    {
     "name": "stdout",
     "output_type": "stream",
     "text": [
      "🔄 Cargando página 56...\n"
     ]
    },
    {
     "name": "stderr",
     "output_type": "stream",
     "text": [
      "Extrayendo atletas página 56:   9%|██▉                              | 9/102 [00:00<00:04, 22.96it/s]\n"
     ]
    },
    {
     "ename": "MaxRetryError",
     "evalue": "HTTPConnectionPool(host='localhost', port=61538): Max retries exceeded with url: /session/6dff75126053b55bbb65124096e2407c/element/f.723FF5DF626A22D4D6293FF19404007C.d.BFA26E8AC5482FA0DEC00D925AF68880.e.1399/elements (Caused by NewConnectionError('<urllib3.connection.HTTPConnection object at 0x10ec910a0>: Failed to establish a new connection: [Errno 61] Connection refused'))",
     "output_type": "error",
     "traceback": [
      "\u001b[31m---------------------------------------------------------------------------\u001b[39m",
      "\u001b[31mConnectionRefusedError\u001b[39m                    Traceback (most recent call last)",
      "\u001b[36mFile \u001b[39m\u001b[32m/Volumes/SSD SanDisk Extreme/DATA ANALYTICS/HACKIO/BOOTCAMP/16.PROYECTO_FINAL/2. ETL Y PREPROCESAMIENTO/venv/lib/python3.12/site-packages/urllib3/connection.py:198\u001b[39m, in \u001b[36mHTTPConnection._new_conn\u001b[39m\u001b[34m(self)\u001b[39m\n\u001b[32m    197\u001b[39m \u001b[38;5;28;01mtry\u001b[39;00m:\n\u001b[32m--> \u001b[39m\u001b[32m198\u001b[39m     sock = \u001b[43mconnection\u001b[49m\u001b[43m.\u001b[49m\u001b[43mcreate_connection\u001b[49m\u001b[43m(\u001b[49m\n\u001b[32m    199\u001b[39m \u001b[43m        \u001b[49m\u001b[43m(\u001b[49m\u001b[38;5;28;43mself\u001b[39;49m\u001b[43m.\u001b[49m\u001b[43m_dns_host\u001b[49m\u001b[43m,\u001b[49m\u001b[43m \u001b[49m\u001b[38;5;28;43mself\u001b[39;49m\u001b[43m.\u001b[49m\u001b[43mport\u001b[49m\u001b[43m)\u001b[49m\u001b[43m,\u001b[49m\n\u001b[32m    200\u001b[39m \u001b[43m        \u001b[49m\u001b[38;5;28;43mself\u001b[39;49m\u001b[43m.\u001b[49m\u001b[43mtimeout\u001b[49m\u001b[43m,\u001b[49m\n\u001b[32m    201\u001b[39m \u001b[43m        \u001b[49m\u001b[43msource_address\u001b[49m\u001b[43m=\u001b[49m\u001b[38;5;28;43mself\u001b[39;49m\u001b[43m.\u001b[49m\u001b[43msource_address\u001b[49m\u001b[43m,\u001b[49m\n\u001b[32m    202\u001b[39m \u001b[43m        \u001b[49m\u001b[43msocket_options\u001b[49m\u001b[43m=\u001b[49m\u001b[38;5;28;43mself\u001b[39;49m\u001b[43m.\u001b[49m\u001b[43msocket_options\u001b[49m\u001b[43m,\u001b[49m\n\u001b[32m    203\u001b[39m \u001b[43m    \u001b[49m\u001b[43m)\u001b[49m\n\u001b[32m    204\u001b[39m \u001b[38;5;28;01mexcept\u001b[39;00m socket.gaierror \u001b[38;5;28;01mas\u001b[39;00m e:\n",
      "\u001b[36mFile \u001b[39m\u001b[32m/Volumes/SSD SanDisk Extreme/DATA ANALYTICS/HACKIO/BOOTCAMP/16.PROYECTO_FINAL/2. ETL Y PREPROCESAMIENTO/venv/lib/python3.12/site-packages/urllib3/util/connection.py:85\u001b[39m, in \u001b[36mcreate_connection\u001b[39m\u001b[34m(address, timeout, source_address, socket_options)\u001b[39m\n\u001b[32m     84\u001b[39m \u001b[38;5;28;01mtry\u001b[39;00m:\n\u001b[32m---> \u001b[39m\u001b[32m85\u001b[39m     \u001b[38;5;28;01mraise\u001b[39;00m err\n\u001b[32m     86\u001b[39m \u001b[38;5;28;01mfinally\u001b[39;00m:\n\u001b[32m     87\u001b[39m     \u001b[38;5;66;03m# Break explicitly a reference cycle\u001b[39;00m\n",
      "\u001b[36mFile \u001b[39m\u001b[32m/Volumes/SSD SanDisk Extreme/DATA ANALYTICS/HACKIO/BOOTCAMP/16.PROYECTO_FINAL/2. ETL Y PREPROCESAMIENTO/venv/lib/python3.12/site-packages/urllib3/util/connection.py:73\u001b[39m, in \u001b[36mcreate_connection\u001b[39m\u001b[34m(address, timeout, source_address, socket_options)\u001b[39m\n\u001b[32m     72\u001b[39m     sock.bind(source_address)\n\u001b[32m---> \u001b[39m\u001b[32m73\u001b[39m \u001b[43msock\u001b[49m\u001b[43m.\u001b[49m\u001b[43mconnect\u001b[49m\u001b[43m(\u001b[49m\u001b[43msa\u001b[49m\u001b[43m)\u001b[49m\n\u001b[32m     74\u001b[39m \u001b[38;5;66;03m# Break explicitly a reference cycle\u001b[39;00m\n",
      "\u001b[31mConnectionRefusedError\u001b[39m: [Errno 61] Connection refused",
      "\nThe above exception was the direct cause of the following exception:\n",
      "\u001b[31mNewConnectionError\u001b[39m                        Traceback (most recent call last)",
      "\u001b[36mFile \u001b[39m\u001b[32m/Volumes/SSD SanDisk Extreme/DATA ANALYTICS/HACKIO/BOOTCAMP/16.PROYECTO_FINAL/2. ETL Y PREPROCESAMIENTO/venv/lib/python3.12/site-packages/urllib3/connectionpool.py:787\u001b[39m, in \u001b[36mHTTPConnectionPool.urlopen\u001b[39m\u001b[34m(self, method, url, body, headers, retries, redirect, assert_same_host, timeout, pool_timeout, release_conn, chunked, body_pos, preload_content, decode_content, **response_kw)\u001b[39m\n\u001b[32m    786\u001b[39m \u001b[38;5;66;03m# Make the request on the HTTPConnection object\u001b[39;00m\n\u001b[32m--> \u001b[39m\u001b[32m787\u001b[39m response = \u001b[38;5;28;43mself\u001b[39;49m\u001b[43m.\u001b[49m\u001b[43m_make_request\u001b[49m\u001b[43m(\u001b[49m\n\u001b[32m    788\u001b[39m \u001b[43m    \u001b[49m\u001b[43mconn\u001b[49m\u001b[43m,\u001b[49m\n\u001b[32m    789\u001b[39m \u001b[43m    \u001b[49m\u001b[43mmethod\u001b[49m\u001b[43m,\u001b[49m\n\u001b[32m    790\u001b[39m \u001b[43m    \u001b[49m\u001b[43murl\u001b[49m\u001b[43m,\u001b[49m\n\u001b[32m    791\u001b[39m \u001b[43m    \u001b[49m\u001b[43mtimeout\u001b[49m\u001b[43m=\u001b[49m\u001b[43mtimeout_obj\u001b[49m\u001b[43m,\u001b[49m\n\u001b[32m    792\u001b[39m \u001b[43m    \u001b[49m\u001b[43mbody\u001b[49m\u001b[43m=\u001b[49m\u001b[43mbody\u001b[49m\u001b[43m,\u001b[49m\n\u001b[32m    793\u001b[39m \u001b[43m    \u001b[49m\u001b[43mheaders\u001b[49m\u001b[43m=\u001b[49m\u001b[43mheaders\u001b[49m\u001b[43m,\u001b[49m\n\u001b[32m    794\u001b[39m \u001b[43m    \u001b[49m\u001b[43mchunked\u001b[49m\u001b[43m=\u001b[49m\u001b[43mchunked\u001b[49m\u001b[43m,\u001b[49m\n\u001b[32m    795\u001b[39m \u001b[43m    \u001b[49m\u001b[43mretries\u001b[49m\u001b[43m=\u001b[49m\u001b[43mretries\u001b[49m\u001b[43m,\u001b[49m\n\u001b[32m    796\u001b[39m \u001b[43m    \u001b[49m\u001b[43mresponse_conn\u001b[49m\u001b[43m=\u001b[49m\u001b[43mresponse_conn\u001b[49m\u001b[43m,\u001b[49m\n\u001b[32m    797\u001b[39m \u001b[43m    \u001b[49m\u001b[43mpreload_content\u001b[49m\u001b[43m=\u001b[49m\u001b[43mpreload_content\u001b[49m\u001b[43m,\u001b[49m\n\u001b[32m    798\u001b[39m \u001b[43m    \u001b[49m\u001b[43mdecode_content\u001b[49m\u001b[43m=\u001b[49m\u001b[43mdecode_content\u001b[49m\u001b[43m,\u001b[49m\n\u001b[32m    799\u001b[39m \u001b[43m    \u001b[49m\u001b[43m*\u001b[49m\u001b[43m*\u001b[49m\u001b[43mresponse_kw\u001b[49m\u001b[43m,\u001b[49m\n\u001b[32m    800\u001b[39m \u001b[43m\u001b[49m\u001b[43m)\u001b[49m\n\u001b[32m    802\u001b[39m \u001b[38;5;66;03m# Everything went great!\u001b[39;00m\n",
      "\u001b[36mFile \u001b[39m\u001b[32m/Volumes/SSD SanDisk Extreme/DATA ANALYTICS/HACKIO/BOOTCAMP/16.PROYECTO_FINAL/2. ETL Y PREPROCESAMIENTO/venv/lib/python3.12/site-packages/urllib3/connectionpool.py:493\u001b[39m, in \u001b[36mHTTPConnectionPool._make_request\u001b[39m\u001b[34m(self, conn, method, url, body, headers, retries, timeout, chunked, response_conn, preload_content, decode_content, enforce_content_length)\u001b[39m\n\u001b[32m    492\u001b[39m \u001b[38;5;28;01mtry\u001b[39;00m:\n\u001b[32m--> \u001b[39m\u001b[32m493\u001b[39m     \u001b[43mconn\u001b[49m\u001b[43m.\u001b[49m\u001b[43mrequest\u001b[49m\u001b[43m(\u001b[49m\n\u001b[32m    494\u001b[39m \u001b[43m        \u001b[49m\u001b[43mmethod\u001b[49m\u001b[43m,\u001b[49m\n\u001b[32m    495\u001b[39m \u001b[43m        \u001b[49m\u001b[43murl\u001b[49m\u001b[43m,\u001b[49m\n\u001b[32m    496\u001b[39m \u001b[43m        \u001b[49m\u001b[43mbody\u001b[49m\u001b[43m=\u001b[49m\u001b[43mbody\u001b[49m\u001b[43m,\u001b[49m\n\u001b[32m    497\u001b[39m \u001b[43m        \u001b[49m\u001b[43mheaders\u001b[49m\u001b[43m=\u001b[49m\u001b[43mheaders\u001b[49m\u001b[43m,\u001b[49m\n\u001b[32m    498\u001b[39m \u001b[43m        \u001b[49m\u001b[43mchunked\u001b[49m\u001b[43m=\u001b[49m\u001b[43mchunked\u001b[49m\u001b[43m,\u001b[49m\n\u001b[32m    499\u001b[39m \u001b[43m        \u001b[49m\u001b[43mpreload_content\u001b[49m\u001b[43m=\u001b[49m\u001b[43mpreload_content\u001b[49m\u001b[43m,\u001b[49m\n\u001b[32m    500\u001b[39m \u001b[43m        \u001b[49m\u001b[43mdecode_content\u001b[49m\u001b[43m=\u001b[49m\u001b[43mdecode_content\u001b[49m\u001b[43m,\u001b[49m\n\u001b[32m    501\u001b[39m \u001b[43m        \u001b[49m\u001b[43menforce_content_length\u001b[49m\u001b[43m=\u001b[49m\u001b[43menforce_content_length\u001b[49m\u001b[43m,\u001b[49m\n\u001b[32m    502\u001b[39m \u001b[43m    \u001b[49m\u001b[43m)\u001b[49m\n\u001b[32m    504\u001b[39m \u001b[38;5;66;03m# We are swallowing BrokenPipeError (errno.EPIPE) since the server is\u001b[39;00m\n\u001b[32m    505\u001b[39m \u001b[38;5;66;03m# legitimately able to close the connection after sending a valid response.\u001b[39;00m\n\u001b[32m    506\u001b[39m \u001b[38;5;66;03m# With this behaviour, the received response is still readable.\u001b[39;00m\n",
      "\u001b[36mFile \u001b[39m\u001b[32m/Volumes/SSD SanDisk Extreme/DATA ANALYTICS/HACKIO/BOOTCAMP/16.PROYECTO_FINAL/2. ETL Y PREPROCESAMIENTO/venv/lib/python3.12/site-packages/urllib3/connection.py:445\u001b[39m, in \u001b[36mHTTPConnection.request\u001b[39m\u001b[34m(self, method, url, body, headers, chunked, preload_content, decode_content, enforce_content_length)\u001b[39m\n\u001b[32m    444\u001b[39m     \u001b[38;5;28mself\u001b[39m.putheader(header, value)\n\u001b[32m--> \u001b[39m\u001b[32m445\u001b[39m \u001b[38;5;28;43mself\u001b[39;49m\u001b[43m.\u001b[49m\u001b[43mendheaders\u001b[49m\u001b[43m(\u001b[49m\u001b[43m)\u001b[49m\n\u001b[32m    447\u001b[39m \u001b[38;5;66;03m# If we're given a body we start sending that in chunks.\u001b[39;00m\n",
      "\u001b[36mFile \u001b[39m\u001b[32m/opt/homebrew/Cellar/python@3.12/3.12.4/Frameworks/Python.framework/Versions/3.12/lib/python3.12/http/client.py:1331\u001b[39m, in \u001b[36mHTTPConnection.endheaders\u001b[39m\u001b[34m(self, message_body, encode_chunked)\u001b[39m\n\u001b[32m   1330\u001b[39m     \u001b[38;5;28;01mraise\u001b[39;00m CannotSendHeader()\n\u001b[32m-> \u001b[39m\u001b[32m1331\u001b[39m \u001b[38;5;28;43mself\u001b[39;49m\u001b[43m.\u001b[49m\u001b[43m_send_output\u001b[49m\u001b[43m(\u001b[49m\u001b[43mmessage_body\u001b[49m\u001b[43m,\u001b[49m\u001b[43m \u001b[49m\u001b[43mencode_chunked\u001b[49m\u001b[43m=\u001b[49m\u001b[43mencode_chunked\u001b[49m\u001b[43m)\u001b[49m\n",
      "\u001b[36mFile \u001b[39m\u001b[32m/opt/homebrew/Cellar/python@3.12/3.12.4/Frameworks/Python.framework/Versions/3.12/lib/python3.12/http/client.py:1091\u001b[39m, in \u001b[36mHTTPConnection._send_output\u001b[39m\u001b[34m(self, message_body, encode_chunked)\u001b[39m\n\u001b[32m   1090\u001b[39m \u001b[38;5;28;01mdel\u001b[39;00m \u001b[38;5;28mself\u001b[39m._buffer[:]\n\u001b[32m-> \u001b[39m\u001b[32m1091\u001b[39m \u001b[38;5;28;43mself\u001b[39;49m\u001b[43m.\u001b[49m\u001b[43msend\u001b[49m\u001b[43m(\u001b[49m\u001b[43mmsg\u001b[49m\u001b[43m)\u001b[49m\n\u001b[32m   1093\u001b[39m \u001b[38;5;28;01mif\u001b[39;00m message_body \u001b[38;5;129;01mis\u001b[39;00m \u001b[38;5;129;01mnot\u001b[39;00m \u001b[38;5;28;01mNone\u001b[39;00m:\n\u001b[32m   1094\u001b[39m \n\u001b[32m   1095\u001b[39m     \u001b[38;5;66;03m# create a consistent interface to message_body\u001b[39;00m\n",
      "\u001b[36mFile \u001b[39m\u001b[32m/opt/homebrew/Cellar/python@3.12/3.12.4/Frameworks/Python.framework/Versions/3.12/lib/python3.12/http/client.py:1035\u001b[39m, in \u001b[36mHTTPConnection.send\u001b[39m\u001b[34m(self, data)\u001b[39m\n\u001b[32m   1034\u001b[39m \u001b[38;5;28;01mif\u001b[39;00m \u001b[38;5;28mself\u001b[39m.auto_open:\n\u001b[32m-> \u001b[39m\u001b[32m1035\u001b[39m     \u001b[38;5;28;43mself\u001b[39;49m\u001b[43m.\u001b[49m\u001b[43mconnect\u001b[49m\u001b[43m(\u001b[49m\u001b[43m)\u001b[49m\n\u001b[32m   1036\u001b[39m \u001b[38;5;28;01melse\u001b[39;00m:\n",
      "\u001b[36mFile \u001b[39m\u001b[32m/Volumes/SSD SanDisk Extreme/DATA ANALYTICS/HACKIO/BOOTCAMP/16.PROYECTO_FINAL/2. ETL Y PREPROCESAMIENTO/venv/lib/python3.12/site-packages/urllib3/connection.py:276\u001b[39m, in \u001b[36mHTTPConnection.connect\u001b[39m\u001b[34m(self)\u001b[39m\n\u001b[32m    275\u001b[39m \u001b[38;5;28;01mdef\u001b[39;00m\u001b[38;5;250m \u001b[39m\u001b[34mconnect\u001b[39m(\u001b[38;5;28mself\u001b[39m) -> \u001b[38;5;28;01mNone\u001b[39;00m:\n\u001b[32m--> \u001b[39m\u001b[32m276\u001b[39m     \u001b[38;5;28mself\u001b[39m.sock = \u001b[38;5;28;43mself\u001b[39;49m\u001b[43m.\u001b[49m\u001b[43m_new_conn\u001b[49m\u001b[43m(\u001b[49m\u001b[43m)\u001b[49m\n\u001b[32m    277\u001b[39m     \u001b[38;5;28;01mif\u001b[39;00m \u001b[38;5;28mself\u001b[39m._tunnel_host:\n\u001b[32m    278\u001b[39m         \u001b[38;5;66;03m# If we're tunneling it means we're connected to our proxy.\u001b[39;00m\n",
      "\u001b[36mFile \u001b[39m\u001b[32m/Volumes/SSD SanDisk Extreme/DATA ANALYTICS/HACKIO/BOOTCAMP/16.PROYECTO_FINAL/2. ETL Y PREPROCESAMIENTO/venv/lib/python3.12/site-packages/urllib3/connection.py:213\u001b[39m, in \u001b[36mHTTPConnection._new_conn\u001b[39m\u001b[34m(self)\u001b[39m\n\u001b[32m    212\u001b[39m \u001b[38;5;28;01mexcept\u001b[39;00m \u001b[38;5;167;01mOSError\u001b[39;00m \u001b[38;5;28;01mas\u001b[39;00m e:\n\u001b[32m--> \u001b[39m\u001b[32m213\u001b[39m     \u001b[38;5;28;01mraise\u001b[39;00m NewConnectionError(\n\u001b[32m    214\u001b[39m         \u001b[38;5;28mself\u001b[39m, \u001b[33mf\u001b[39m\u001b[33m\"\u001b[39m\u001b[33mFailed to establish a new connection: \u001b[39m\u001b[38;5;132;01m{\u001b[39;00me\u001b[38;5;132;01m}\u001b[39;00m\u001b[33m\"\u001b[39m\n\u001b[32m    215\u001b[39m     ) \u001b[38;5;28;01mfrom\u001b[39;00m\u001b[38;5;250m \u001b[39m\u001b[34;01me\u001b[39;00m\n\u001b[32m    217\u001b[39m sys.audit(\u001b[33m\"\u001b[39m\u001b[33mhttp.client.connect\u001b[39m\u001b[33m\"\u001b[39m, \u001b[38;5;28mself\u001b[39m, \u001b[38;5;28mself\u001b[39m.host, \u001b[38;5;28mself\u001b[39m.port)\n",
      "\u001b[31mNewConnectionError\u001b[39m: <urllib3.connection.HTTPConnection object at 0x10ec910a0>: Failed to establish a new connection: [Errno 61] Connection refused",
      "\nThe above exception was the direct cause of the following exception:\n",
      "\u001b[31mMaxRetryError\u001b[39m                             Traceback (most recent call last)",
      "\u001b[36mCell\u001b[39m\u001b[36m \u001b[39m\u001b[32mIn[9]\u001b[39m\u001b[32m, line 46\u001b[39m\n\u001b[32m     43\u001b[39m     pais = \u001b[33m\"\u001b[39m\u001b[33mSin país\u001b[39m\u001b[33m\"\u001b[39m\n\u001b[32m     45\u001b[39m \u001b[38;5;66;03m# Tiempo y posición desde bloques 'result'\u001b[39;00m\n\u001b[32m---> \u001b[39m\u001b[32m46\u001b[39m spans = \u001b[43matleta\u001b[49m\u001b[43m.\u001b[49m\u001b[43mfind_elements\u001b[49m\u001b[43m(\u001b[49m\u001b[43mBy\u001b[49m\u001b[43m.\u001b[49m\u001b[43mCSS_SELECTOR\u001b[49m\u001b[43m,\u001b[49m\u001b[43m \u001b[49m\u001b[33;43m\"\u001b[39;49m\u001b[33;43mspan.result\u001b[39;49m\u001b[33;43m\"\u001b[39;49m\u001b[43m)\u001b[49m\n\u001b[32m     47\u001b[39m posicion = \u001b[33m\"\u001b[39m\u001b[33mSin posición\u001b[39m\u001b[33m\"\u001b[39m\n\u001b[32m     48\u001b[39m tiempo = \u001b[33m\"\u001b[39m\u001b[33mSin tiempo\u001b[39m\u001b[33m\"\u001b[39m\n",
      "\u001b[36mFile \u001b[39m\u001b[32m/Volumes/SSD SanDisk Extreme/DATA ANALYTICS/HACKIO/BOOTCAMP/16.PROYECTO_FINAL/2. ETL Y PREPROCESAMIENTO/venv/lib/python3.12/site-packages/selenium/webdriver/remote/webelement.py:630\u001b[39m, in \u001b[36mWebElement.find_elements\u001b[39m\u001b[34m(self, by, value)\u001b[39m\n\u001b[32m    604\u001b[39m \u001b[38;5;250m\u001b[39m\u001b[33;03m\"\"\"Find elements given a By strategy and locator.\u001b[39;00m\n\u001b[32m    605\u001b[39m \n\u001b[32m    606\u001b[39m \u001b[33;03mParameters:\u001b[39;00m\n\u001b[32m   (...)\u001b[39m\u001b[32m    627\u001b[39m \u001b[33;03m    list of `WebElements` matching locator strategy found on the page.\u001b[39;00m\n\u001b[32m    628\u001b[39m \u001b[33;03m\"\"\"\u001b[39;00m\n\u001b[32m    629\u001b[39m by, value = \u001b[38;5;28mself\u001b[39m._parent.locator_converter.convert(by, value)\n\u001b[32m--> \u001b[39m\u001b[32m630\u001b[39m \u001b[38;5;28;01mreturn\u001b[39;00m \u001b[38;5;28;43mself\u001b[39;49m\u001b[43m.\u001b[49m\u001b[43m_execute\u001b[49m\u001b[43m(\u001b[49m\u001b[43mCommand\u001b[49m\u001b[43m.\u001b[49m\u001b[43mFIND_CHILD_ELEMENTS\u001b[49m\u001b[43m,\u001b[49m\u001b[43m \u001b[49m\u001b[43m{\u001b[49m\u001b[33;43m\"\u001b[39;49m\u001b[33;43musing\u001b[39;49m\u001b[33;43m\"\u001b[39;49m\u001b[43m:\u001b[49m\u001b[43m \u001b[49m\u001b[43mby\u001b[49m\u001b[43m,\u001b[49m\u001b[43m \u001b[49m\u001b[33;43m\"\u001b[39;49m\u001b[33;43mvalue\u001b[39;49m\u001b[33;43m\"\u001b[39;49m\u001b[43m:\u001b[49m\u001b[43m \u001b[49m\u001b[43mvalue\u001b[49m\u001b[43m}\u001b[49m\u001b[43m)\u001b[49m[\u001b[33m\"\u001b[39m\u001b[33mvalue\u001b[39m\u001b[33m\"\u001b[39m]\n",
      "\u001b[36mFile \u001b[39m\u001b[32m/Volumes/SSD SanDisk Extreme/DATA ANALYTICS/HACKIO/BOOTCAMP/16.PROYECTO_FINAL/2. ETL Y PREPROCESAMIENTO/venv/lib/python3.12/site-packages/selenium/webdriver/remote/webelement.py:572\u001b[39m, in \u001b[36mWebElement._execute\u001b[39m\u001b[34m(self, command, params)\u001b[39m\n\u001b[32m    570\u001b[39m     params = {}\n\u001b[32m    571\u001b[39m params[\u001b[33m\"\u001b[39m\u001b[33mid\u001b[39m\u001b[33m\"\u001b[39m] = \u001b[38;5;28mself\u001b[39m._id\n\u001b[32m--> \u001b[39m\u001b[32m572\u001b[39m \u001b[38;5;28;01mreturn\u001b[39;00m \u001b[38;5;28;43mself\u001b[39;49m\u001b[43m.\u001b[49m\u001b[43m_parent\u001b[49m\u001b[43m.\u001b[49m\u001b[43mexecute\u001b[49m\u001b[43m(\u001b[49m\u001b[43mcommand\u001b[49m\u001b[43m,\u001b[49m\u001b[43m \u001b[49m\u001b[43mparams\u001b[49m\u001b[43m)\u001b[49m\n",
      "\u001b[36mFile \u001b[39m\u001b[32m/Volumes/SSD SanDisk Extreme/DATA ANALYTICS/HACKIO/BOOTCAMP/16.PROYECTO_FINAL/2. ETL Y PREPROCESAMIENTO/venv/lib/python3.12/site-packages/selenium/webdriver/remote/webdriver.py:427\u001b[39m, in \u001b[36mWebDriver.execute\u001b[39m\u001b[34m(self, driver_command, params)\u001b[39m\n\u001b[32m    424\u001b[39m     \u001b[38;5;28;01melif\u001b[39;00m \u001b[33m\"\u001b[39m\u001b[33msessionId\u001b[39m\u001b[33m\"\u001b[39m \u001b[38;5;129;01mnot\u001b[39;00m \u001b[38;5;129;01min\u001b[39;00m params:\n\u001b[32m    425\u001b[39m         params[\u001b[33m\"\u001b[39m\u001b[33msessionId\u001b[39m\u001b[33m\"\u001b[39m] = \u001b[38;5;28mself\u001b[39m.session_id\n\u001b[32m--> \u001b[39m\u001b[32m427\u001b[39m response = \u001b[38;5;28;43mself\u001b[39;49m\u001b[43m.\u001b[49m\u001b[43mcommand_executor\u001b[49m\u001b[43m.\u001b[49m\u001b[43mexecute\u001b[49m\u001b[43m(\u001b[49m\u001b[43mdriver_command\u001b[49m\u001b[43m,\u001b[49m\u001b[43m \u001b[49m\u001b[43mparams\u001b[49m\u001b[43m)\u001b[49m\n\u001b[32m    428\u001b[39m \u001b[38;5;28;01mif\u001b[39;00m response:\n\u001b[32m    429\u001b[39m     \u001b[38;5;28mself\u001b[39m.error_handler.check_response(response)\n",
      "\u001b[36mFile \u001b[39m\u001b[32m/Volumes/SSD SanDisk Extreme/DATA ANALYTICS/HACKIO/BOOTCAMP/16.PROYECTO_FINAL/2. ETL Y PREPROCESAMIENTO/venv/lib/python3.12/site-packages/selenium/webdriver/remote/remote_connection.py:404\u001b[39m, in \u001b[36mRemoteConnection.execute\u001b[39m\u001b[34m(self, command, params)\u001b[39m\n\u001b[32m    402\u001b[39m trimmed = \u001b[38;5;28mself\u001b[39m._trim_large_entries(params)\n\u001b[32m    403\u001b[39m LOGGER.debug(\u001b[33m\"\u001b[39m\u001b[38;5;132;01m%s\u001b[39;00m\u001b[33m \u001b[39m\u001b[38;5;132;01m%s\u001b[39;00m\u001b[33m \u001b[39m\u001b[38;5;132;01m%s\u001b[39;00m\u001b[33m\"\u001b[39m, command_info[\u001b[32m0\u001b[39m], url, \u001b[38;5;28mstr\u001b[39m(trimmed))\n\u001b[32m--> \u001b[39m\u001b[32m404\u001b[39m \u001b[38;5;28;01mreturn\u001b[39;00m \u001b[38;5;28;43mself\u001b[39;49m\u001b[43m.\u001b[49m\u001b[43m_request\u001b[49m\u001b[43m(\u001b[49m\u001b[43mcommand_info\u001b[49m\u001b[43m[\u001b[49m\u001b[32;43m0\u001b[39;49m\u001b[43m]\u001b[49m\u001b[43m,\u001b[49m\u001b[43m \u001b[49m\u001b[43murl\u001b[49m\u001b[43m,\u001b[49m\u001b[43m \u001b[49m\u001b[43mbody\u001b[49m\u001b[43m=\u001b[49m\u001b[43mdata\u001b[49m\u001b[43m)\u001b[49m\n",
      "\u001b[36mFile \u001b[39m\u001b[32m/Volumes/SSD SanDisk Extreme/DATA ANALYTICS/HACKIO/BOOTCAMP/16.PROYECTO_FINAL/2. ETL Y PREPROCESAMIENTO/venv/lib/python3.12/site-packages/selenium/webdriver/remote/remote_connection.py:428\u001b[39m, in \u001b[36mRemoteConnection._request\u001b[39m\u001b[34m(self, method, url, body)\u001b[39m\n\u001b[32m    425\u001b[39m     body = \u001b[38;5;28;01mNone\u001b[39;00m\n\u001b[32m    427\u001b[39m \u001b[38;5;28;01mif\u001b[39;00m \u001b[38;5;28mself\u001b[39m._client_config.keep_alive:\n\u001b[32m--> \u001b[39m\u001b[32m428\u001b[39m     response = \u001b[38;5;28;43mself\u001b[39;49m\u001b[43m.\u001b[49m\u001b[43m_conn\u001b[49m\u001b[43m.\u001b[49m\u001b[43mrequest\u001b[49m\u001b[43m(\u001b[49m\u001b[43mmethod\u001b[49m\u001b[43m,\u001b[49m\u001b[43m \u001b[49m\u001b[43murl\u001b[49m\u001b[43m,\u001b[49m\u001b[43m \u001b[49m\u001b[43mbody\u001b[49m\u001b[43m=\u001b[49m\u001b[43mbody\u001b[49m\u001b[43m,\u001b[49m\u001b[43m \u001b[49m\u001b[43mheaders\u001b[49m\u001b[43m=\u001b[49m\u001b[43mheaders\u001b[49m\u001b[43m,\u001b[49m\u001b[43m \u001b[49m\u001b[43mtimeout\u001b[49m\u001b[43m=\u001b[49m\u001b[38;5;28;43mself\u001b[39;49m\u001b[43m.\u001b[49m\u001b[43m_client_config\u001b[49m\u001b[43m.\u001b[49m\u001b[43mtimeout\u001b[49m\u001b[43m)\u001b[49m\n\u001b[32m    429\u001b[39m     statuscode = response.status\n\u001b[32m    430\u001b[39m \u001b[38;5;28;01melse\u001b[39;00m:\n",
      "\u001b[36mFile \u001b[39m\u001b[32m/Volumes/SSD SanDisk Extreme/DATA ANALYTICS/HACKIO/BOOTCAMP/16.PROYECTO_FINAL/2. ETL Y PREPROCESAMIENTO/venv/lib/python3.12/site-packages/urllib3/_request_methods.py:143\u001b[39m, in \u001b[36mRequestMethods.request\u001b[39m\u001b[34m(self, method, url, body, fields, headers, json, **urlopen_kw)\u001b[39m\n\u001b[32m    135\u001b[39m     \u001b[38;5;28;01mreturn\u001b[39;00m \u001b[38;5;28mself\u001b[39m.request_encode_url(\n\u001b[32m    136\u001b[39m         method,\n\u001b[32m    137\u001b[39m         url,\n\u001b[32m   (...)\u001b[39m\u001b[32m    140\u001b[39m         **urlopen_kw,\n\u001b[32m    141\u001b[39m     )\n\u001b[32m    142\u001b[39m \u001b[38;5;28;01melse\u001b[39;00m:\n\u001b[32m--> \u001b[39m\u001b[32m143\u001b[39m     \u001b[38;5;28;01mreturn\u001b[39;00m \u001b[38;5;28;43mself\u001b[39;49m\u001b[43m.\u001b[49m\u001b[43mrequest_encode_body\u001b[49m\u001b[43m(\u001b[49m\n\u001b[32m    144\u001b[39m \u001b[43m        \u001b[49m\u001b[43mmethod\u001b[49m\u001b[43m,\u001b[49m\u001b[43m \u001b[49m\u001b[43murl\u001b[49m\u001b[43m,\u001b[49m\u001b[43m \u001b[49m\u001b[43mfields\u001b[49m\u001b[43m=\u001b[49m\u001b[43mfields\u001b[49m\u001b[43m,\u001b[49m\u001b[43m \u001b[49m\u001b[43mheaders\u001b[49m\u001b[43m=\u001b[49m\u001b[43mheaders\u001b[49m\u001b[43m,\u001b[49m\u001b[43m \u001b[49m\u001b[43m*\u001b[49m\u001b[43m*\u001b[49m\u001b[43murlopen_kw\u001b[49m\n\u001b[32m    145\u001b[39m \u001b[43m    \u001b[49m\u001b[43m)\u001b[49m\n",
      "\u001b[36mFile \u001b[39m\u001b[32m/Volumes/SSD SanDisk Extreme/DATA ANALYTICS/HACKIO/BOOTCAMP/16.PROYECTO_FINAL/2. ETL Y PREPROCESAMIENTO/venv/lib/python3.12/site-packages/urllib3/_request_methods.py:278\u001b[39m, in \u001b[36mRequestMethods.request_encode_body\u001b[39m\u001b[34m(self, method, url, fields, headers, encode_multipart, multipart_boundary, **urlopen_kw)\u001b[39m\n\u001b[32m    274\u001b[39m     extra_kw[\u001b[33m\"\u001b[39m\u001b[33mheaders\u001b[39m\u001b[33m\"\u001b[39m].setdefault(\u001b[33m\"\u001b[39m\u001b[33mContent-Type\u001b[39m\u001b[33m\"\u001b[39m, content_type)\n\u001b[32m    276\u001b[39m extra_kw.update(urlopen_kw)\n\u001b[32m--> \u001b[39m\u001b[32m278\u001b[39m \u001b[38;5;28;01mreturn\u001b[39;00m \u001b[38;5;28;43mself\u001b[39;49m\u001b[43m.\u001b[49m\u001b[43murlopen\u001b[49m\u001b[43m(\u001b[49m\u001b[43mmethod\u001b[49m\u001b[43m,\u001b[49m\u001b[43m \u001b[49m\u001b[43murl\u001b[49m\u001b[43m,\u001b[49m\u001b[43m \u001b[49m\u001b[43m*\u001b[49m\u001b[43m*\u001b[49m\u001b[43mextra_kw\u001b[49m\u001b[43m)\u001b[49m\n",
      "\u001b[36mFile \u001b[39m\u001b[32m/Volumes/SSD SanDisk Extreme/DATA ANALYTICS/HACKIO/BOOTCAMP/16.PROYECTO_FINAL/2. ETL Y PREPROCESAMIENTO/venv/lib/python3.12/site-packages/urllib3/poolmanager.py:443\u001b[39m, in \u001b[36mPoolManager.urlopen\u001b[39m\u001b[34m(self, method, url, redirect, **kw)\u001b[39m\n\u001b[32m    441\u001b[39m     response = conn.urlopen(method, url, **kw)\n\u001b[32m    442\u001b[39m \u001b[38;5;28;01melse\u001b[39;00m:\n\u001b[32m--> \u001b[39m\u001b[32m443\u001b[39m     response = \u001b[43mconn\u001b[49m\u001b[43m.\u001b[49m\u001b[43murlopen\u001b[49m\u001b[43m(\u001b[49m\u001b[43mmethod\u001b[49m\u001b[43m,\u001b[49m\u001b[43m \u001b[49m\u001b[43mu\u001b[49m\u001b[43m.\u001b[49m\u001b[43mrequest_uri\u001b[49m\u001b[43m,\u001b[49m\u001b[43m \u001b[49m\u001b[43m*\u001b[49m\u001b[43m*\u001b[49m\u001b[43mkw\u001b[49m\u001b[43m)\u001b[49m\n\u001b[32m    445\u001b[39m redirect_location = redirect \u001b[38;5;129;01mand\u001b[39;00m response.get_redirect_location()\n\u001b[32m    446\u001b[39m \u001b[38;5;28;01mif\u001b[39;00m \u001b[38;5;129;01mnot\u001b[39;00m redirect_location:\n",
      "\u001b[36mFile \u001b[39m\u001b[32m/Volumes/SSD SanDisk Extreme/DATA ANALYTICS/HACKIO/BOOTCAMP/16.PROYECTO_FINAL/2. ETL Y PREPROCESAMIENTO/venv/lib/python3.12/site-packages/urllib3/connectionpool.py:871\u001b[39m, in \u001b[36mHTTPConnectionPool.urlopen\u001b[39m\u001b[34m(self, method, url, body, headers, retries, redirect, assert_same_host, timeout, pool_timeout, release_conn, chunked, body_pos, preload_content, decode_content, **response_kw)\u001b[39m\n\u001b[32m    866\u001b[39m \u001b[38;5;28;01mif\u001b[39;00m \u001b[38;5;129;01mnot\u001b[39;00m conn:\n\u001b[32m    867\u001b[39m     \u001b[38;5;66;03m# Try again\u001b[39;00m\n\u001b[32m    868\u001b[39m     log.warning(\n\u001b[32m    869\u001b[39m         \u001b[33m\"\u001b[39m\u001b[33mRetrying (\u001b[39m\u001b[38;5;132;01m%r\u001b[39;00m\u001b[33m) after connection broken by \u001b[39m\u001b[33m'\u001b[39m\u001b[38;5;132;01m%r\u001b[39;00m\u001b[33m'\u001b[39m\u001b[33m: \u001b[39m\u001b[38;5;132;01m%s\u001b[39;00m\u001b[33m\"\u001b[39m, retries, err, url\n\u001b[32m    870\u001b[39m     )\n\u001b[32m--> \u001b[39m\u001b[32m871\u001b[39m     \u001b[38;5;28;01mreturn\u001b[39;00m \u001b[38;5;28;43mself\u001b[39;49m\u001b[43m.\u001b[49m\u001b[43murlopen\u001b[49m\u001b[43m(\u001b[49m\n\u001b[32m    872\u001b[39m \u001b[43m        \u001b[49m\u001b[43mmethod\u001b[49m\u001b[43m,\u001b[49m\n\u001b[32m    873\u001b[39m \u001b[43m        \u001b[49m\u001b[43murl\u001b[49m\u001b[43m,\u001b[49m\n\u001b[32m    874\u001b[39m \u001b[43m        \u001b[49m\u001b[43mbody\u001b[49m\u001b[43m,\u001b[49m\n\u001b[32m    875\u001b[39m \u001b[43m        \u001b[49m\u001b[43mheaders\u001b[49m\u001b[43m,\u001b[49m\n\u001b[32m    876\u001b[39m \u001b[43m        \u001b[49m\u001b[43mretries\u001b[49m\u001b[43m,\u001b[49m\n\u001b[32m    877\u001b[39m \u001b[43m        \u001b[49m\u001b[43mredirect\u001b[49m\u001b[43m,\u001b[49m\n\u001b[32m    878\u001b[39m \u001b[43m        \u001b[49m\u001b[43massert_same_host\u001b[49m\u001b[43m,\u001b[49m\n\u001b[32m    879\u001b[39m \u001b[43m        \u001b[49m\u001b[43mtimeout\u001b[49m\u001b[43m=\u001b[49m\u001b[43mtimeout\u001b[49m\u001b[43m,\u001b[49m\n\u001b[32m    880\u001b[39m \u001b[43m        \u001b[49m\u001b[43mpool_timeout\u001b[49m\u001b[43m=\u001b[49m\u001b[43mpool_timeout\u001b[49m\u001b[43m,\u001b[49m\n\u001b[32m    881\u001b[39m \u001b[43m        \u001b[49m\u001b[43mrelease_conn\u001b[49m\u001b[43m=\u001b[49m\u001b[43mrelease_conn\u001b[49m\u001b[43m,\u001b[49m\n\u001b[32m    882\u001b[39m \u001b[43m        \u001b[49m\u001b[43mchunked\u001b[49m\u001b[43m=\u001b[49m\u001b[43mchunked\u001b[49m\u001b[43m,\u001b[49m\n\u001b[32m    883\u001b[39m \u001b[43m        \u001b[49m\u001b[43mbody_pos\u001b[49m\u001b[43m=\u001b[49m\u001b[43mbody_pos\u001b[49m\u001b[43m,\u001b[49m\n\u001b[32m    884\u001b[39m \u001b[43m        \u001b[49m\u001b[43mpreload_content\u001b[49m\u001b[43m=\u001b[49m\u001b[43mpreload_content\u001b[49m\u001b[43m,\u001b[49m\n\u001b[32m    885\u001b[39m \u001b[43m        \u001b[49m\u001b[43mdecode_content\u001b[49m\u001b[43m=\u001b[49m\u001b[43mdecode_content\u001b[49m\u001b[43m,\u001b[49m\n\u001b[32m    886\u001b[39m \u001b[43m        \u001b[49m\u001b[43m*\u001b[49m\u001b[43m*\u001b[49m\u001b[43mresponse_kw\u001b[49m\u001b[43m,\u001b[49m\n\u001b[32m    887\u001b[39m \u001b[43m    \u001b[49m\u001b[43m)\u001b[49m\n\u001b[32m    889\u001b[39m \u001b[38;5;66;03m# Handle redirect?\u001b[39;00m\n\u001b[32m    890\u001b[39m redirect_location = redirect \u001b[38;5;129;01mand\u001b[39;00m response.get_redirect_location()\n",
      "\u001b[36mFile \u001b[39m\u001b[32m/Volumes/SSD SanDisk Extreme/DATA ANALYTICS/HACKIO/BOOTCAMP/16.PROYECTO_FINAL/2. ETL Y PREPROCESAMIENTO/venv/lib/python3.12/site-packages/urllib3/connectionpool.py:871\u001b[39m, in \u001b[36mHTTPConnectionPool.urlopen\u001b[39m\u001b[34m(self, method, url, body, headers, retries, redirect, assert_same_host, timeout, pool_timeout, release_conn, chunked, body_pos, preload_content, decode_content, **response_kw)\u001b[39m\n\u001b[32m    866\u001b[39m \u001b[38;5;28;01mif\u001b[39;00m \u001b[38;5;129;01mnot\u001b[39;00m conn:\n\u001b[32m    867\u001b[39m     \u001b[38;5;66;03m# Try again\u001b[39;00m\n\u001b[32m    868\u001b[39m     log.warning(\n\u001b[32m    869\u001b[39m         \u001b[33m\"\u001b[39m\u001b[33mRetrying (\u001b[39m\u001b[38;5;132;01m%r\u001b[39;00m\u001b[33m) after connection broken by \u001b[39m\u001b[33m'\u001b[39m\u001b[38;5;132;01m%r\u001b[39;00m\u001b[33m'\u001b[39m\u001b[33m: \u001b[39m\u001b[38;5;132;01m%s\u001b[39;00m\u001b[33m\"\u001b[39m, retries, err, url\n\u001b[32m    870\u001b[39m     )\n\u001b[32m--> \u001b[39m\u001b[32m871\u001b[39m     \u001b[38;5;28;01mreturn\u001b[39;00m \u001b[38;5;28;43mself\u001b[39;49m\u001b[43m.\u001b[49m\u001b[43murlopen\u001b[49m\u001b[43m(\u001b[49m\n\u001b[32m    872\u001b[39m \u001b[43m        \u001b[49m\u001b[43mmethod\u001b[49m\u001b[43m,\u001b[49m\n\u001b[32m    873\u001b[39m \u001b[43m        \u001b[49m\u001b[43murl\u001b[49m\u001b[43m,\u001b[49m\n\u001b[32m    874\u001b[39m \u001b[43m        \u001b[49m\u001b[43mbody\u001b[49m\u001b[43m,\u001b[49m\n\u001b[32m    875\u001b[39m \u001b[43m        \u001b[49m\u001b[43mheaders\u001b[49m\u001b[43m,\u001b[49m\n\u001b[32m    876\u001b[39m \u001b[43m        \u001b[49m\u001b[43mretries\u001b[49m\u001b[43m,\u001b[49m\n\u001b[32m    877\u001b[39m \u001b[43m        \u001b[49m\u001b[43mredirect\u001b[49m\u001b[43m,\u001b[49m\n\u001b[32m    878\u001b[39m \u001b[43m        \u001b[49m\u001b[43massert_same_host\u001b[49m\u001b[43m,\u001b[49m\n\u001b[32m    879\u001b[39m \u001b[43m        \u001b[49m\u001b[43mtimeout\u001b[49m\u001b[43m=\u001b[49m\u001b[43mtimeout\u001b[49m\u001b[43m,\u001b[49m\n\u001b[32m    880\u001b[39m \u001b[43m        \u001b[49m\u001b[43mpool_timeout\u001b[49m\u001b[43m=\u001b[49m\u001b[43mpool_timeout\u001b[49m\u001b[43m,\u001b[49m\n\u001b[32m    881\u001b[39m \u001b[43m        \u001b[49m\u001b[43mrelease_conn\u001b[49m\u001b[43m=\u001b[49m\u001b[43mrelease_conn\u001b[49m\u001b[43m,\u001b[49m\n\u001b[32m    882\u001b[39m \u001b[43m        \u001b[49m\u001b[43mchunked\u001b[49m\u001b[43m=\u001b[49m\u001b[43mchunked\u001b[49m\u001b[43m,\u001b[49m\n\u001b[32m    883\u001b[39m \u001b[43m        \u001b[49m\u001b[43mbody_pos\u001b[49m\u001b[43m=\u001b[49m\u001b[43mbody_pos\u001b[49m\u001b[43m,\u001b[49m\n\u001b[32m    884\u001b[39m \u001b[43m        \u001b[49m\u001b[43mpreload_content\u001b[49m\u001b[43m=\u001b[49m\u001b[43mpreload_content\u001b[49m\u001b[43m,\u001b[49m\n\u001b[32m    885\u001b[39m \u001b[43m        \u001b[49m\u001b[43mdecode_content\u001b[49m\u001b[43m=\u001b[49m\u001b[43mdecode_content\u001b[49m\u001b[43m,\u001b[49m\n\u001b[32m    886\u001b[39m \u001b[43m        \u001b[49m\u001b[43m*\u001b[49m\u001b[43m*\u001b[49m\u001b[43mresponse_kw\u001b[49m\u001b[43m,\u001b[49m\n\u001b[32m    887\u001b[39m \u001b[43m    \u001b[49m\u001b[43m)\u001b[49m\n\u001b[32m    889\u001b[39m \u001b[38;5;66;03m# Handle redirect?\u001b[39;00m\n\u001b[32m    890\u001b[39m redirect_location = redirect \u001b[38;5;129;01mand\u001b[39;00m response.get_redirect_location()\n",
      "\u001b[36mFile \u001b[39m\u001b[32m/Volumes/SSD SanDisk Extreme/DATA ANALYTICS/HACKIO/BOOTCAMP/16.PROYECTO_FINAL/2. ETL Y PREPROCESAMIENTO/venv/lib/python3.12/site-packages/urllib3/connectionpool.py:871\u001b[39m, in \u001b[36mHTTPConnectionPool.urlopen\u001b[39m\u001b[34m(self, method, url, body, headers, retries, redirect, assert_same_host, timeout, pool_timeout, release_conn, chunked, body_pos, preload_content, decode_content, **response_kw)\u001b[39m\n\u001b[32m    866\u001b[39m \u001b[38;5;28;01mif\u001b[39;00m \u001b[38;5;129;01mnot\u001b[39;00m conn:\n\u001b[32m    867\u001b[39m     \u001b[38;5;66;03m# Try again\u001b[39;00m\n\u001b[32m    868\u001b[39m     log.warning(\n\u001b[32m    869\u001b[39m         \u001b[33m\"\u001b[39m\u001b[33mRetrying (\u001b[39m\u001b[38;5;132;01m%r\u001b[39;00m\u001b[33m) after connection broken by \u001b[39m\u001b[33m'\u001b[39m\u001b[38;5;132;01m%r\u001b[39;00m\u001b[33m'\u001b[39m\u001b[33m: \u001b[39m\u001b[38;5;132;01m%s\u001b[39;00m\u001b[33m\"\u001b[39m, retries, err, url\n\u001b[32m    870\u001b[39m     )\n\u001b[32m--> \u001b[39m\u001b[32m871\u001b[39m     \u001b[38;5;28;01mreturn\u001b[39;00m \u001b[38;5;28;43mself\u001b[39;49m\u001b[43m.\u001b[49m\u001b[43murlopen\u001b[49m\u001b[43m(\u001b[49m\n\u001b[32m    872\u001b[39m \u001b[43m        \u001b[49m\u001b[43mmethod\u001b[49m\u001b[43m,\u001b[49m\n\u001b[32m    873\u001b[39m \u001b[43m        \u001b[49m\u001b[43murl\u001b[49m\u001b[43m,\u001b[49m\n\u001b[32m    874\u001b[39m \u001b[43m        \u001b[49m\u001b[43mbody\u001b[49m\u001b[43m,\u001b[49m\n\u001b[32m    875\u001b[39m \u001b[43m        \u001b[49m\u001b[43mheaders\u001b[49m\u001b[43m,\u001b[49m\n\u001b[32m    876\u001b[39m \u001b[43m        \u001b[49m\u001b[43mretries\u001b[49m\u001b[43m,\u001b[49m\n\u001b[32m    877\u001b[39m \u001b[43m        \u001b[49m\u001b[43mredirect\u001b[49m\u001b[43m,\u001b[49m\n\u001b[32m    878\u001b[39m \u001b[43m        \u001b[49m\u001b[43massert_same_host\u001b[49m\u001b[43m,\u001b[49m\n\u001b[32m    879\u001b[39m \u001b[43m        \u001b[49m\u001b[43mtimeout\u001b[49m\u001b[43m=\u001b[49m\u001b[43mtimeout\u001b[49m\u001b[43m,\u001b[49m\n\u001b[32m    880\u001b[39m \u001b[43m        \u001b[49m\u001b[43mpool_timeout\u001b[49m\u001b[43m=\u001b[49m\u001b[43mpool_timeout\u001b[49m\u001b[43m,\u001b[49m\n\u001b[32m    881\u001b[39m \u001b[43m        \u001b[49m\u001b[43mrelease_conn\u001b[49m\u001b[43m=\u001b[49m\u001b[43mrelease_conn\u001b[49m\u001b[43m,\u001b[49m\n\u001b[32m    882\u001b[39m \u001b[43m        \u001b[49m\u001b[43mchunked\u001b[49m\u001b[43m=\u001b[49m\u001b[43mchunked\u001b[49m\u001b[43m,\u001b[49m\n\u001b[32m    883\u001b[39m \u001b[43m        \u001b[49m\u001b[43mbody_pos\u001b[49m\u001b[43m=\u001b[49m\u001b[43mbody_pos\u001b[49m\u001b[43m,\u001b[49m\n\u001b[32m    884\u001b[39m \u001b[43m        \u001b[49m\u001b[43mpreload_content\u001b[49m\u001b[43m=\u001b[49m\u001b[43mpreload_content\u001b[49m\u001b[43m,\u001b[49m\n\u001b[32m    885\u001b[39m \u001b[43m        \u001b[49m\u001b[43mdecode_content\u001b[49m\u001b[43m=\u001b[49m\u001b[43mdecode_content\u001b[49m\u001b[43m,\u001b[49m\n\u001b[32m    886\u001b[39m \u001b[43m        \u001b[49m\u001b[43m*\u001b[49m\u001b[43m*\u001b[49m\u001b[43mresponse_kw\u001b[49m\u001b[43m,\u001b[49m\n\u001b[32m    887\u001b[39m \u001b[43m    \u001b[49m\u001b[43m)\u001b[49m\n\u001b[32m    889\u001b[39m \u001b[38;5;66;03m# Handle redirect?\u001b[39;00m\n\u001b[32m    890\u001b[39m redirect_location = redirect \u001b[38;5;129;01mand\u001b[39;00m response.get_redirect_location()\n",
      "\u001b[36mFile \u001b[39m\u001b[32m/Volumes/SSD SanDisk Extreme/DATA ANALYTICS/HACKIO/BOOTCAMP/16.PROYECTO_FINAL/2. ETL Y PREPROCESAMIENTO/venv/lib/python3.12/site-packages/urllib3/connectionpool.py:841\u001b[39m, in \u001b[36mHTTPConnectionPool.urlopen\u001b[39m\u001b[34m(self, method, url, body, headers, retries, redirect, assert_same_host, timeout, pool_timeout, release_conn, chunked, body_pos, preload_content, decode_content, **response_kw)\u001b[39m\n\u001b[32m    838\u001b[39m \u001b[38;5;28;01melif\u001b[39;00m \u001b[38;5;28misinstance\u001b[39m(new_e, (\u001b[38;5;167;01mOSError\u001b[39;00m, HTTPException)):\n\u001b[32m    839\u001b[39m     new_e = ProtocolError(\u001b[33m\"\u001b[39m\u001b[33mConnection aborted.\u001b[39m\u001b[33m\"\u001b[39m, new_e)\n\u001b[32m--> \u001b[39m\u001b[32m841\u001b[39m retries = \u001b[43mretries\u001b[49m\u001b[43m.\u001b[49m\u001b[43mincrement\u001b[49m\u001b[43m(\u001b[49m\n\u001b[32m    842\u001b[39m \u001b[43m    \u001b[49m\u001b[43mmethod\u001b[49m\u001b[43m,\u001b[49m\u001b[43m \u001b[49m\u001b[43murl\u001b[49m\u001b[43m,\u001b[49m\u001b[43m \u001b[49m\u001b[43merror\u001b[49m\u001b[43m=\u001b[49m\u001b[43mnew_e\u001b[49m\u001b[43m,\u001b[49m\u001b[43m \u001b[49m\u001b[43m_pool\u001b[49m\u001b[43m=\u001b[49m\u001b[38;5;28;43mself\u001b[39;49m\u001b[43m,\u001b[49m\u001b[43m \u001b[49m\u001b[43m_stacktrace\u001b[49m\u001b[43m=\u001b[49m\u001b[43msys\u001b[49m\u001b[43m.\u001b[49m\u001b[43mexc_info\u001b[49m\u001b[43m(\u001b[49m\u001b[43m)\u001b[49m\u001b[43m[\u001b[49m\u001b[32;43m2\u001b[39;49m\u001b[43m]\u001b[49m\n\u001b[32m    843\u001b[39m \u001b[43m\u001b[49m\u001b[43m)\u001b[49m\n\u001b[32m    844\u001b[39m retries.sleep()\n\u001b[32m    846\u001b[39m \u001b[38;5;66;03m# Keep track of the error for the retry warning.\u001b[39;00m\n",
      "\u001b[36mFile \u001b[39m\u001b[32m/Volumes/SSD SanDisk Extreme/DATA ANALYTICS/HACKIO/BOOTCAMP/16.PROYECTO_FINAL/2. ETL Y PREPROCESAMIENTO/venv/lib/python3.12/site-packages/urllib3/util/retry.py:519\u001b[39m, in \u001b[36mRetry.increment\u001b[39m\u001b[34m(self, method, url, response, error, _pool, _stacktrace)\u001b[39m\n\u001b[32m    517\u001b[39m \u001b[38;5;28;01mif\u001b[39;00m new_retry.is_exhausted():\n\u001b[32m    518\u001b[39m     reason = error \u001b[38;5;129;01mor\u001b[39;00m ResponseError(cause)\n\u001b[32m--> \u001b[39m\u001b[32m519\u001b[39m     \u001b[38;5;28;01mraise\u001b[39;00m MaxRetryError(_pool, url, reason) \u001b[38;5;28;01mfrom\u001b[39;00m\u001b[38;5;250m \u001b[39m\u001b[34;01mreason\u001b[39;00m  \u001b[38;5;66;03m# type: ignore[arg-type]\u001b[39;00m\n\u001b[32m    521\u001b[39m log.debug(\u001b[33m\"\u001b[39m\u001b[33mIncremented Retry for (url=\u001b[39m\u001b[33m'\u001b[39m\u001b[38;5;132;01m%s\u001b[39;00m\u001b[33m'\u001b[39m\u001b[33m): \u001b[39m\u001b[38;5;132;01m%r\u001b[39;00m\u001b[33m\"\u001b[39m, url, new_retry)\n\u001b[32m    523\u001b[39m \u001b[38;5;28;01mreturn\u001b[39;00m new_retry\n",
      "\u001b[31mMaxRetryError\u001b[39m: HTTPConnectionPool(host='localhost', port=61538): Max retries exceeded with url: /session/6dff75126053b55bbb65124096e2407c/element/f.723FF5DF626A22D4D6293FF19404007C.d.BFA26E8AC5482FA0DEC00D925AF68880.e.1399/elements (Caused by NewConnectionError('<urllib3.connection.HTTPConnection object at 0x10ec910a0>: Failed to establish a new connection: [Errno 61] Connection refused'))"
     ]
    }
   ],
   "source": [
    "from selenium import webdriver\n",
    "from selenium.webdriver.common.by import By\n",
    "import time\n",
    "import pandas as pd\n",
    "from tqdm import tqdm\n",
    "\n",
    "options = webdriver.ChromeOptions()\n",
    "options.add_argument('--start-maximized')\n",
    "driver = webdriver.Chrome(options=options)\n",
    "\n",
    "base_url = \"https://results.nyrr.org/event/M2024/finishers#page=\"\n",
    "pagina = 1\n",
    "todos_resultados = []\n",
    "rank = 1\n",
    "limite_paginas = 1000  # Por seguridad para evitar bucles infinitos\n",
    "\n",
    "print(\"\\n📥 Iniciando scrapeo con cambio de página (#page=N)...\\n\")\n",
    "\n",
    "while pagina <= limite_paginas:\n",
    "    print(f\"🔄 Cargando página {pagina}...\")\n",
    "    driver.get(f\"{base_url}{pagina}\")\n",
    "    time.sleep(4)\n",
    "\n",
    "    atletas = driver.find_elements(By.CSS_SELECTOR, \"div[ng-repeat='eventFinisher in eventFinishers']\")\n",
    "    if not atletas:\n",
    "        print(\"✅ Fin del listado: no hay más atletas.\")\n",
    "        break\n",
    "\n",
    "    for atleta in tqdm(atletas, desc=f\"Extrayendo atletas página {pagina}\", ncols=100):\n",
    "        try:\n",
    "            nombre = atleta.find_element(By.CSS_SELECTOR, \"div.name\").text\n",
    "        except:\n",
    "            nombre = \"Sin nombre\"\n",
    "\n",
    "        try:\n",
    "            edad = atleta.find_element(By.CSS_SELECTOR, \"span[ng-if='eventFinisher.gender || eventFinisher.age']\").text\n",
    "        except:\n",
    "            edad = \"Sin edad\"\n",
    "\n",
    "        try:\n",
    "            pais = atleta.find_element(By.CSS_SELECTOR, \"span[ng-if='eventFinisher.iaaf']\").text\n",
    "        except:\n",
    "            pais = \"Sin país\"\n",
    "\n",
    "        # Tiempo y posición desde bloques 'result'\n",
    "        spans = atleta.find_elements(By.CSS_SELECTOR, \"span.result\")\n",
    "        posicion = \"Sin posición\"\n",
    "        tiempo = \"Sin tiempo\"\n",
    "        for span in spans:\n",
    "            try:\n",
    "                if \"Place\" in span.text:\n",
    "                    posicion = span.find_element(By.CLASS_NAME, \"num\").text\n",
    "                elif \"Time\" in span.text:\n",
    "                    tiempo = span.find_element(By.CLASS_NAME, \"num\").text\n",
    "            except:\n",
    "                continue\n",
    "\n",
    "        todos_resultados.append({\n",
    "            \"rank\": rank,\n",
    "            \"nombre\": nombre,\n",
    "            \"pais\": pais,\n",
    "            \"edad\": edad,\n",
    "            \"posicion\": posicion,\n",
    "            \"tiempo\": tiempo\n",
    "        })\n",
    "\n",
    "        rank += 1\n",
    "\n",
    "    pagina += 1\n",
    "\n",
    "driver.quit()\n",
    "\n",
    "# Guardar\n",
    "df_NYC = pd.DataFrame(todos_resultados)\n",
    "df_NYC.to_csv(\"../data/resultados_nyc_marathon_2024_completo_paginas.csv\", index=False)\n",
    "print(f\"\\n✅ Scrapeo completado con {len(df)} atletas.\")\n",
    "print(\"📁 Archivo guardado: nyc_marathon_2024_completo_paginas.csv\")"
   ]
  },
  {
   "cell_type": "code",
   "execution_count": 10,
   "metadata": {},
   "outputs": [
    {
     "data": {
      "application/vnd.microsoft.datawrangler.viewer.v0+json": {
       "columns": [
        {
         "name": "index",
         "rawType": "int64",
         "type": "integer"
        },
        {
         "name": "nombre",
         "rawType": "object",
         "type": "string"
        },
        {
         "name": "pais",
         "rawType": "object",
         "type": "string"
        },
        {
         "name": "edad",
         "rawType": "object",
         "type": "string"
        },
        {
         "name": "posicion",
         "rawType": "object",
         "type": "string"
        },
        {
         "name": "tiempo",
         "rawType": "object",
         "type": "string"
        }
       ],
       "conversionMethod": "pd.DataFrame",
       "ref": "d86f6371-5dcd-4aea-aa8c-82974c1917e7",
       "rows": [
        [
         "0",
         "Abdi Nageeye",
         "NED",
         "M35",
         "Time 2:07:39",
         "Sin tiempo"
        ],
        [
         "1",
         "Evans Chebet",
         "KEN",
         "M35",
         "Time 2:07:45",
         "Sin tiempo"
        ],
        [
         "2",
         "Albert Korir",
         "KEN",
         "M30",
         "Time 2:08:00",
         "Sin tiempo"
        ],
        [
         "3",
         "Tamirat Tola",
         "ETH",
         "M33",
         "Time 2:08:12",
         "Sin tiempo"
        ],
        [
         "4",
         "Geoffrey Kamworor",
         "KEN",
         "M31",
         "Time 2:08:50",
         "Sin tiempo"
        ],
        [
         "5",
         "Conner Mantz",
         "USA",
         "M27",
         "Time 2:09:00",
         "Sin tiempo"
        ],
        [
         "6",
         "Clayton Young",
         "USA",
         "M31",
         "Time 2:09:21",
         "Sin tiempo"
        ],
        [
         "7",
         "Abel Kipchumba",
         "KEN",
         "M30",
         "Time 2:10:39",
         "Sin tiempo"
        ],
        [
         "8",
         "Bashir Abdi",
         "BEL",
         "M35",
         "Time 2:10:39",
         "Sin tiempo"
        ],
        [
         "9",
         "Cj Albertson",
         "USA",
         "M31",
         "Time 2:10:57",
         "Sin tiempo"
        ],
        [
         "10",
         "Ryan Ford",
         "USA",
         "M27",
         "Time 2:11:08",
         "Sin tiempo"
        ],
        [
         "11",
         "Colin Bennie",
         "USA",
         "M29",
         "Time 2:11:16",
         "Sin tiempo"
        ],
        [
         "12",
         "Frank Lara",
         "USA",
         "M29",
         "Time 2:11:21",
         "Sin tiempo"
        ],
        [
         "13",
         "Jonny Mellor",
         "GBR",
         "M37",
         "Time 2:11:22",
         "Sin tiempo"
        ],
        [
         "14",
         "Rory Linkletter",
         "CAN",
         "M28",
         "Time 2:11:45",
         "Sin tiempo"
        ],
        [
         "15",
         "Wesley Kiptoo",
         "KEN",
         "M28",
         "Time 2:11:58",
         "Sin tiempo"
        ],
        [
         "16",
         "Futsum Zienasellassie",
         "USA",
         "M31",
         "Time 2:12:32",
         "Sin tiempo"
        ],
        [
         "17",
         "Joel Reichow",
         "USA",
         "M31",
         "Time 2:12:52",
         "Sin tiempo"
        ],
        [
         "18",
         "Elkanah Kibet",
         "USA",
         "M41",
         "Time 2:13:27",
         "Sin tiempo"
        ],
        [
         "19",
         "Ryan Eiler",
         "USA",
         "M38",
         "Time 2:13:36",
         "Sin tiempo"
        ],
        [
         "20",
         "Teshome Mekonen",
         "USA",
         "M29",
         "Time 2:14:12",
         "Sin tiempo"
        ],
        [
         "21",
         "Addisu Gobena",
         "ETH",
         "M20",
         "Time 2:14:49",
         "Sin tiempo"
        ],
        [
         "22",
         "Callum Hawkins",
         "GBR",
         "M32",
         "Time 2:15:12",
         "Sin tiempo"
        ],
        [
         "23",
         "Josh Izewski",
         "USA",
         "M34",
         "Time 2:16:58",
         "Sin tiempo"
        ],
        [
         "24",
         "Owen Ritz",
         "USA",
         "M25",
         "Time 2:17:16",
         "Sin tiempo"
        ],
        [
         "25",
         "Jake Perrin",
         "USA",
         "M26",
         "Time 2:17:46",
         "Sin tiempo"
        ],
        [
         "26",
         "Desta Utura Gedo",
         "ETH",
         "M28",
         "Time 2:18:30",
         "Sin tiempo"
        ],
        [
         "27",
         "Dylan Marx",
         "USA",
         "M32",
         "Time 2:18:42",
         "Sin tiempo"
        ],
        [
         "28",
         "Gavin Glaza",
         "USA",
         "M24",
         "Time 2:19:05",
         "Sin tiempo"
        ],
        [
         "29",
         "Ser-Od Bat-Ochir",
         "MGL",
         "M43",
         "Time 2:19:08",
         "Sin tiempo"
        ],
        [
         "30",
         "Stepan Kiselev",
         "RUS",
         "M38",
         "Time 2:19:13",
         "Sin tiempo"
        ],
        [
         "31",
         "Jared Ward",
         "USA",
         "M36",
         "Time 2:19:36",
         "Sin tiempo"
        ],
        [
         "32",
         "Scottie Nelson",
         "USA",
         "M28",
         "Time 2:19:51",
         "Sin tiempo"
        ],
        [
         "33",
         "Terry Tossman",
         "USA",
         "M28",
         "Time 2:20:08",
         "Sin tiempo"
        ],
        [
         "34",
         "Connor Mora",
         "USA",
         "M29",
         "Time 2:20:13",
         "Sin tiempo"
        ],
        [
         "35",
         "Esteban Trujillo",
         "USA",
         "M39",
         "Time 2:20:39",
         "Sin tiempo"
        ],
        [
         "36",
         "Hugo Fry",
         "AUS",
         "M27",
         "Time 2:21:33",
         "Sin tiempo"
        ],
        [
         "37",
         "John Borjesson",
         "SWE",
         "M32",
         "Time 2:21:55",
         "Sin tiempo"
        ],
        [
         "38",
         "Oscar Acosta",
         "COL",
         "M36",
         "Time 2:22:03",
         "Sin tiempo"
        ],
        [
         "39",
         "David Gaertlein",
         "GER",
         "M32",
         "Time 2:22:05",
         "Sin tiempo"
        ],
        [
         "40",
         "Andrew Gelston",
         "USA",
         "M34",
         "Time 2:22:29",
         "Sin tiempo"
        ],
        [
         "41",
         "Kanato Goto",
         "JPN",
         "M35",
         "Time 2:22:30",
         "Sin tiempo"
        ],
        [
         "42",
         "Ethan Koreff",
         "USA",
         "M32",
         "Time 2:22:47",
         "Sin tiempo"
        ],
        [
         "43",
         "Derek Alcorn",
         "USA",
         "M33",
         "Time 2:23:08",
         "Sin tiempo"
        ],
        [
         "44",
         "Nicolas Dalmasso",
         "FRA",
         "M36",
         "Time 2:23:13",
         "Sin tiempo"
        ],
        [
         "45",
         "Spencer Bossi Johnson",
         "USA",
         "M29",
         "Time 2:23:14",
         "Sin tiempo"
        ],
        [
         "46",
         "Tom Derr",
         "USA",
         "M32",
         "Time 2:23:21",
         "Sin tiempo"
        ],
        [
         "47",
         "William Hague",
         "USA",
         "M30",
         "Time 2:23:54",
         "Sin tiempo"
        ],
        [
         "48",
         "Nico Montanez",
         "USA",
         "M31",
         "Time 2:24:13",
         "Sin tiempo"
        ],
        [
         "49",
         "Alexis Garod",
         "FRA",
         "M30",
         "Time 2:24:15",
         "Sin tiempo"
        ]
       ],
       "shape": {
        "columns": 5,
        "rows": 51
       }
      },
      "text/html": [
       "<div>\n",
       "<style scoped>\n",
       "    .dataframe tbody tr th:only-of-type {\n",
       "        vertical-align: middle;\n",
       "    }\n",
       "\n",
       "    .dataframe tbody tr th {\n",
       "        vertical-align: top;\n",
       "    }\n",
       "\n",
       "    .dataframe thead th {\n",
       "        text-align: right;\n",
       "    }\n",
       "</style>\n",
       "<table border=\"1\" class=\"dataframe\">\n",
       "  <thead>\n",
       "    <tr style=\"text-align: right;\">\n",
       "      <th></th>\n",
       "      <th>nombre</th>\n",
       "      <th>pais</th>\n",
       "      <th>edad</th>\n",
       "      <th>posicion</th>\n",
       "      <th>tiempo</th>\n",
       "    </tr>\n",
       "  </thead>\n",
       "  <tbody>\n",
       "    <tr>\n",
       "      <th>0</th>\n",
       "      <td>Abdi Nageeye</td>\n",
       "      <td>NED</td>\n",
       "      <td>M35</td>\n",
       "      <td>Time 2:07:39</td>\n",
       "      <td>Sin tiempo</td>\n",
       "    </tr>\n",
       "    <tr>\n",
       "      <th>1</th>\n",
       "      <td>Evans Chebet</td>\n",
       "      <td>KEN</td>\n",
       "      <td>M35</td>\n",
       "      <td>Time 2:07:45</td>\n",
       "      <td>Sin tiempo</td>\n",
       "    </tr>\n",
       "    <tr>\n",
       "      <th>2</th>\n",
       "      <td>Albert Korir</td>\n",
       "      <td>KEN</td>\n",
       "      <td>M30</td>\n",
       "      <td>Time 2:08:00</td>\n",
       "      <td>Sin tiempo</td>\n",
       "    </tr>\n",
       "    <tr>\n",
       "      <th>3</th>\n",
       "      <td>Tamirat Tola</td>\n",
       "      <td>ETH</td>\n",
       "      <td>M33</td>\n",
       "      <td>Time 2:08:12</td>\n",
       "      <td>Sin tiempo</td>\n",
       "    </tr>\n",
       "    <tr>\n",
       "      <th>4</th>\n",
       "      <td>Geoffrey Kamworor</td>\n",
       "      <td>KEN</td>\n",
       "      <td>M31</td>\n",
       "      <td>Time 2:08:50</td>\n",
       "      <td>Sin tiempo</td>\n",
       "    </tr>\n",
       "    <tr>\n",
       "      <th>5</th>\n",
       "      <td>Conner Mantz</td>\n",
       "      <td>USA</td>\n",
       "      <td>M27</td>\n",
       "      <td>Time 2:09:00</td>\n",
       "      <td>Sin tiempo</td>\n",
       "    </tr>\n",
       "    <tr>\n",
       "      <th>6</th>\n",
       "      <td>Clayton Young</td>\n",
       "      <td>USA</td>\n",
       "      <td>M31</td>\n",
       "      <td>Time 2:09:21</td>\n",
       "      <td>Sin tiempo</td>\n",
       "    </tr>\n",
       "    <tr>\n",
       "      <th>7</th>\n",
       "      <td>Abel Kipchumba</td>\n",
       "      <td>KEN</td>\n",
       "      <td>M30</td>\n",
       "      <td>Time 2:10:39</td>\n",
       "      <td>Sin tiempo</td>\n",
       "    </tr>\n",
       "    <tr>\n",
       "      <th>8</th>\n",
       "      <td>Bashir Abdi</td>\n",
       "      <td>BEL</td>\n",
       "      <td>M35</td>\n",
       "      <td>Time 2:10:39</td>\n",
       "      <td>Sin tiempo</td>\n",
       "    </tr>\n",
       "    <tr>\n",
       "      <th>9</th>\n",
       "      <td>Cj Albertson</td>\n",
       "      <td>USA</td>\n",
       "      <td>M31</td>\n",
       "      <td>Time 2:10:57</td>\n",
       "      <td>Sin tiempo</td>\n",
       "    </tr>\n",
       "    <tr>\n",
       "      <th>10</th>\n",
       "      <td>Ryan Ford</td>\n",
       "      <td>USA</td>\n",
       "      <td>M27</td>\n",
       "      <td>Time 2:11:08</td>\n",
       "      <td>Sin tiempo</td>\n",
       "    </tr>\n",
       "    <tr>\n",
       "      <th>11</th>\n",
       "      <td>Colin Bennie</td>\n",
       "      <td>USA</td>\n",
       "      <td>M29</td>\n",
       "      <td>Time 2:11:16</td>\n",
       "      <td>Sin tiempo</td>\n",
       "    </tr>\n",
       "    <tr>\n",
       "      <th>12</th>\n",
       "      <td>Frank Lara</td>\n",
       "      <td>USA</td>\n",
       "      <td>M29</td>\n",
       "      <td>Time 2:11:21</td>\n",
       "      <td>Sin tiempo</td>\n",
       "    </tr>\n",
       "    <tr>\n",
       "      <th>13</th>\n",
       "      <td>Jonny Mellor</td>\n",
       "      <td>GBR</td>\n",
       "      <td>M37</td>\n",
       "      <td>Time 2:11:22</td>\n",
       "      <td>Sin tiempo</td>\n",
       "    </tr>\n",
       "    <tr>\n",
       "      <th>14</th>\n",
       "      <td>Rory Linkletter</td>\n",
       "      <td>CAN</td>\n",
       "      <td>M28</td>\n",
       "      <td>Time 2:11:45</td>\n",
       "      <td>Sin tiempo</td>\n",
       "    </tr>\n",
       "    <tr>\n",
       "      <th>15</th>\n",
       "      <td>Wesley Kiptoo</td>\n",
       "      <td>KEN</td>\n",
       "      <td>M28</td>\n",
       "      <td>Time 2:11:58</td>\n",
       "      <td>Sin tiempo</td>\n",
       "    </tr>\n",
       "    <tr>\n",
       "      <th>16</th>\n",
       "      <td>Futsum Zienasellassie</td>\n",
       "      <td>USA</td>\n",
       "      <td>M31</td>\n",
       "      <td>Time 2:12:32</td>\n",
       "      <td>Sin tiempo</td>\n",
       "    </tr>\n",
       "    <tr>\n",
       "      <th>17</th>\n",
       "      <td>Joel Reichow</td>\n",
       "      <td>USA</td>\n",
       "      <td>M31</td>\n",
       "      <td>Time 2:12:52</td>\n",
       "      <td>Sin tiempo</td>\n",
       "    </tr>\n",
       "    <tr>\n",
       "      <th>18</th>\n",
       "      <td>Elkanah Kibet</td>\n",
       "      <td>USA</td>\n",
       "      <td>M41</td>\n",
       "      <td>Time 2:13:27</td>\n",
       "      <td>Sin tiempo</td>\n",
       "    </tr>\n",
       "    <tr>\n",
       "      <th>19</th>\n",
       "      <td>Ryan Eiler</td>\n",
       "      <td>USA</td>\n",
       "      <td>M38</td>\n",
       "      <td>Time 2:13:36</td>\n",
       "      <td>Sin tiempo</td>\n",
       "    </tr>\n",
       "    <tr>\n",
       "      <th>20</th>\n",
       "      <td>Teshome Mekonen</td>\n",
       "      <td>USA</td>\n",
       "      <td>M29</td>\n",
       "      <td>Time 2:14:12</td>\n",
       "      <td>Sin tiempo</td>\n",
       "    </tr>\n",
       "    <tr>\n",
       "      <th>21</th>\n",
       "      <td>Addisu Gobena</td>\n",
       "      <td>ETH</td>\n",
       "      <td>M20</td>\n",
       "      <td>Time 2:14:49</td>\n",
       "      <td>Sin tiempo</td>\n",
       "    </tr>\n",
       "    <tr>\n",
       "      <th>22</th>\n",
       "      <td>Callum Hawkins</td>\n",
       "      <td>GBR</td>\n",
       "      <td>M32</td>\n",
       "      <td>Time 2:15:12</td>\n",
       "      <td>Sin tiempo</td>\n",
       "    </tr>\n",
       "    <tr>\n",
       "      <th>23</th>\n",
       "      <td>Josh Izewski</td>\n",
       "      <td>USA</td>\n",
       "      <td>M34</td>\n",
       "      <td>Time 2:16:58</td>\n",
       "      <td>Sin tiempo</td>\n",
       "    </tr>\n",
       "    <tr>\n",
       "      <th>24</th>\n",
       "      <td>Owen Ritz</td>\n",
       "      <td>USA</td>\n",
       "      <td>M25</td>\n",
       "      <td>Time 2:17:16</td>\n",
       "      <td>Sin tiempo</td>\n",
       "    </tr>\n",
       "    <tr>\n",
       "      <th>25</th>\n",
       "      <td>Jake Perrin</td>\n",
       "      <td>USA</td>\n",
       "      <td>M26</td>\n",
       "      <td>Time 2:17:46</td>\n",
       "      <td>Sin tiempo</td>\n",
       "    </tr>\n",
       "    <tr>\n",
       "      <th>26</th>\n",
       "      <td>Desta Utura Gedo</td>\n",
       "      <td>ETH</td>\n",
       "      <td>M28</td>\n",
       "      <td>Time 2:18:30</td>\n",
       "      <td>Sin tiempo</td>\n",
       "    </tr>\n",
       "    <tr>\n",
       "      <th>27</th>\n",
       "      <td>Dylan Marx</td>\n",
       "      <td>USA</td>\n",
       "      <td>M32</td>\n",
       "      <td>Time 2:18:42</td>\n",
       "      <td>Sin tiempo</td>\n",
       "    </tr>\n",
       "    <tr>\n",
       "      <th>28</th>\n",
       "      <td>Gavin Glaza</td>\n",
       "      <td>USA</td>\n",
       "      <td>M24</td>\n",
       "      <td>Time 2:19:05</td>\n",
       "      <td>Sin tiempo</td>\n",
       "    </tr>\n",
       "    <tr>\n",
       "      <th>29</th>\n",
       "      <td>Ser-Od Bat-Ochir</td>\n",
       "      <td>MGL</td>\n",
       "      <td>M43</td>\n",
       "      <td>Time 2:19:08</td>\n",
       "      <td>Sin tiempo</td>\n",
       "    </tr>\n",
       "    <tr>\n",
       "      <th>30</th>\n",
       "      <td>Stepan Kiselev</td>\n",
       "      <td>RUS</td>\n",
       "      <td>M38</td>\n",
       "      <td>Time 2:19:13</td>\n",
       "      <td>Sin tiempo</td>\n",
       "    </tr>\n",
       "    <tr>\n",
       "      <th>31</th>\n",
       "      <td>Jared Ward</td>\n",
       "      <td>USA</td>\n",
       "      <td>M36</td>\n",
       "      <td>Time 2:19:36</td>\n",
       "      <td>Sin tiempo</td>\n",
       "    </tr>\n",
       "    <tr>\n",
       "      <th>32</th>\n",
       "      <td>Scottie Nelson</td>\n",
       "      <td>USA</td>\n",
       "      <td>M28</td>\n",
       "      <td>Time 2:19:51</td>\n",
       "      <td>Sin tiempo</td>\n",
       "    </tr>\n",
       "    <tr>\n",
       "      <th>33</th>\n",
       "      <td>Terry Tossman</td>\n",
       "      <td>USA</td>\n",
       "      <td>M28</td>\n",
       "      <td>Time 2:20:08</td>\n",
       "      <td>Sin tiempo</td>\n",
       "    </tr>\n",
       "    <tr>\n",
       "      <th>34</th>\n",
       "      <td>Connor Mora</td>\n",
       "      <td>USA</td>\n",
       "      <td>M29</td>\n",
       "      <td>Time 2:20:13</td>\n",
       "      <td>Sin tiempo</td>\n",
       "    </tr>\n",
       "    <tr>\n",
       "      <th>35</th>\n",
       "      <td>Esteban Trujillo</td>\n",
       "      <td>USA</td>\n",
       "      <td>M39</td>\n",
       "      <td>Time 2:20:39</td>\n",
       "      <td>Sin tiempo</td>\n",
       "    </tr>\n",
       "    <tr>\n",
       "      <th>36</th>\n",
       "      <td>Hugo Fry</td>\n",
       "      <td>AUS</td>\n",
       "      <td>M27</td>\n",
       "      <td>Time 2:21:33</td>\n",
       "      <td>Sin tiempo</td>\n",
       "    </tr>\n",
       "    <tr>\n",
       "      <th>37</th>\n",
       "      <td>John Borjesson</td>\n",
       "      <td>SWE</td>\n",
       "      <td>M32</td>\n",
       "      <td>Time 2:21:55</td>\n",
       "      <td>Sin tiempo</td>\n",
       "    </tr>\n",
       "    <tr>\n",
       "      <th>38</th>\n",
       "      <td>Oscar Acosta</td>\n",
       "      <td>COL</td>\n",
       "      <td>M36</td>\n",
       "      <td>Time 2:22:03</td>\n",
       "      <td>Sin tiempo</td>\n",
       "    </tr>\n",
       "    <tr>\n",
       "      <th>39</th>\n",
       "      <td>David Gaertlein</td>\n",
       "      <td>GER</td>\n",
       "      <td>M32</td>\n",
       "      <td>Time 2:22:05</td>\n",
       "      <td>Sin tiempo</td>\n",
       "    </tr>\n",
       "    <tr>\n",
       "      <th>40</th>\n",
       "      <td>Andrew Gelston</td>\n",
       "      <td>USA</td>\n",
       "      <td>M34</td>\n",
       "      <td>Time 2:22:29</td>\n",
       "      <td>Sin tiempo</td>\n",
       "    </tr>\n",
       "    <tr>\n",
       "      <th>41</th>\n",
       "      <td>Kanato Goto</td>\n",
       "      <td>JPN</td>\n",
       "      <td>M35</td>\n",
       "      <td>Time 2:22:30</td>\n",
       "      <td>Sin tiempo</td>\n",
       "    </tr>\n",
       "    <tr>\n",
       "      <th>42</th>\n",
       "      <td>Ethan Koreff</td>\n",
       "      <td>USA</td>\n",
       "      <td>M32</td>\n",
       "      <td>Time 2:22:47</td>\n",
       "      <td>Sin tiempo</td>\n",
       "    </tr>\n",
       "    <tr>\n",
       "      <th>43</th>\n",
       "      <td>Derek Alcorn</td>\n",
       "      <td>USA</td>\n",
       "      <td>M33</td>\n",
       "      <td>Time 2:23:08</td>\n",
       "      <td>Sin tiempo</td>\n",
       "    </tr>\n",
       "    <tr>\n",
       "      <th>44</th>\n",
       "      <td>Nicolas Dalmasso</td>\n",
       "      <td>FRA</td>\n",
       "      <td>M36</td>\n",
       "      <td>Time 2:23:13</td>\n",
       "      <td>Sin tiempo</td>\n",
       "    </tr>\n",
       "    <tr>\n",
       "      <th>45</th>\n",
       "      <td>Spencer Bossi Johnson</td>\n",
       "      <td>USA</td>\n",
       "      <td>M29</td>\n",
       "      <td>Time 2:23:14</td>\n",
       "      <td>Sin tiempo</td>\n",
       "    </tr>\n",
       "    <tr>\n",
       "      <th>46</th>\n",
       "      <td>Tom Derr</td>\n",
       "      <td>USA</td>\n",
       "      <td>M32</td>\n",
       "      <td>Time 2:23:21</td>\n",
       "      <td>Sin tiempo</td>\n",
       "    </tr>\n",
       "    <tr>\n",
       "      <th>47</th>\n",
       "      <td>William Hague</td>\n",
       "      <td>USA</td>\n",
       "      <td>M30</td>\n",
       "      <td>Time 2:23:54</td>\n",
       "      <td>Sin tiempo</td>\n",
       "    </tr>\n",
       "    <tr>\n",
       "      <th>48</th>\n",
       "      <td>Nico Montanez</td>\n",
       "      <td>USA</td>\n",
       "      <td>M31</td>\n",
       "      <td>Time 2:24:13</td>\n",
       "      <td>Sin tiempo</td>\n",
       "    </tr>\n",
       "    <tr>\n",
       "      <th>49</th>\n",
       "      <td>Alexis Garod</td>\n",
       "      <td>FRA</td>\n",
       "      <td>M30</td>\n",
       "      <td>Time 2:24:15</td>\n",
       "      <td>Sin tiempo</td>\n",
       "    </tr>\n",
       "    <tr>\n",
       "      <th>50</th>\n",
       "      <td>Jeff Thies</td>\n",
       "      <td>USA</td>\n",
       "      <td>M29</td>\n",
       "      <td>Time 2:24:19</td>\n",
       "      <td>Sin tiempo</td>\n",
       "    </tr>\n",
       "  </tbody>\n",
       "</table>\n",
       "</div>"
      ],
      "text/plain": [
       "                   nombre pais edad      posicion      tiempo\n",
       "0            Abdi Nageeye  NED  M35  Time 2:07:39  Sin tiempo\n",
       "1            Evans Chebet  KEN  M35  Time 2:07:45  Sin tiempo\n",
       "2            Albert Korir  KEN  M30  Time 2:08:00  Sin tiempo\n",
       "3            Tamirat Tola  ETH  M33  Time 2:08:12  Sin tiempo\n",
       "4       Geoffrey Kamworor  KEN  M31  Time 2:08:50  Sin tiempo\n",
       "5            Conner Mantz  USA  M27  Time 2:09:00  Sin tiempo\n",
       "6           Clayton Young  USA  M31  Time 2:09:21  Sin tiempo\n",
       "7          Abel Kipchumba  KEN  M30  Time 2:10:39  Sin tiempo\n",
       "8             Bashir Abdi  BEL  M35  Time 2:10:39  Sin tiempo\n",
       "9            Cj Albertson  USA  M31  Time 2:10:57  Sin tiempo\n",
       "10              Ryan Ford  USA  M27  Time 2:11:08  Sin tiempo\n",
       "11           Colin Bennie  USA  M29  Time 2:11:16  Sin tiempo\n",
       "12             Frank Lara  USA  M29  Time 2:11:21  Sin tiempo\n",
       "13           Jonny Mellor  GBR  M37  Time 2:11:22  Sin tiempo\n",
       "14        Rory Linkletter  CAN  M28  Time 2:11:45  Sin tiempo\n",
       "15          Wesley Kiptoo  KEN  M28  Time 2:11:58  Sin tiempo\n",
       "16  Futsum Zienasellassie  USA  M31  Time 2:12:32  Sin tiempo\n",
       "17           Joel Reichow  USA  M31  Time 2:12:52  Sin tiempo\n",
       "18          Elkanah Kibet  USA  M41  Time 2:13:27  Sin tiempo\n",
       "19             Ryan Eiler  USA  M38  Time 2:13:36  Sin tiempo\n",
       "20        Teshome Mekonen  USA  M29  Time 2:14:12  Sin tiempo\n",
       "21          Addisu Gobena  ETH  M20  Time 2:14:49  Sin tiempo\n",
       "22         Callum Hawkins  GBR  M32  Time 2:15:12  Sin tiempo\n",
       "23           Josh Izewski  USA  M34  Time 2:16:58  Sin tiempo\n",
       "24              Owen Ritz  USA  M25  Time 2:17:16  Sin tiempo\n",
       "25            Jake Perrin  USA  M26  Time 2:17:46  Sin tiempo\n",
       "26       Desta Utura Gedo  ETH  M28  Time 2:18:30  Sin tiempo\n",
       "27             Dylan Marx  USA  M32  Time 2:18:42  Sin tiempo\n",
       "28            Gavin Glaza  USA  M24  Time 2:19:05  Sin tiempo\n",
       "29       Ser-Od Bat-Ochir  MGL  M43  Time 2:19:08  Sin tiempo\n",
       "30         Stepan Kiselev  RUS  M38  Time 2:19:13  Sin tiempo\n",
       "31             Jared Ward  USA  M36  Time 2:19:36  Sin tiempo\n",
       "32         Scottie Nelson  USA  M28  Time 2:19:51  Sin tiempo\n",
       "33          Terry Tossman  USA  M28  Time 2:20:08  Sin tiempo\n",
       "34            Connor Mora  USA  M29  Time 2:20:13  Sin tiempo\n",
       "35       Esteban Trujillo  USA  M39  Time 2:20:39  Sin tiempo\n",
       "36               Hugo Fry  AUS  M27  Time 2:21:33  Sin tiempo\n",
       "37         John Borjesson  SWE  M32  Time 2:21:55  Sin tiempo\n",
       "38           Oscar Acosta  COL  M36  Time 2:22:03  Sin tiempo\n",
       "39        David Gaertlein  GER  M32  Time 2:22:05  Sin tiempo\n",
       "40         Andrew Gelston  USA  M34  Time 2:22:29  Sin tiempo\n",
       "41            Kanato Goto  JPN  M35  Time 2:22:30  Sin tiempo\n",
       "42           Ethan Koreff  USA  M32  Time 2:22:47  Sin tiempo\n",
       "43           Derek Alcorn  USA  M33  Time 2:23:08  Sin tiempo\n",
       "44       Nicolas Dalmasso  FRA  M36  Time 2:23:13  Sin tiempo\n",
       "45  Spencer Bossi Johnson  USA  M29  Time 2:23:14  Sin tiempo\n",
       "46               Tom Derr  USA  M32  Time 2:23:21  Sin tiempo\n",
       "47          William Hague  USA  M30  Time 2:23:54  Sin tiempo\n",
       "48          Nico Montanez  USA  M31  Time 2:24:13  Sin tiempo\n",
       "49           Alexis Garod  FRA  M30  Time 2:24:15  Sin tiempo\n",
       "50             Jeff Thies  USA  M29  Time 2:24:19  Sin tiempo"
      ]
     },
     "execution_count": 10,
     "metadata": {},
     "output_type": "execute_result"
    }
   ],
   "source": [
    "df_NYC"
   ]
  }
 ],
 "metadata": {
  "kernelspec": {
   "display_name": "venv",
   "language": "python",
   "name": "python3"
  },
  "language_info": {
   "codemirror_mode": {
    "name": "ipython",
    "version": 3
   },
   "file_extension": ".py",
   "mimetype": "text/x-python",
   "name": "python",
   "nbconvert_exporter": "python",
   "pygments_lexer": "ipython3",
   "version": "3.12.4"
  }
 },
 "nbformat": 4,
 "nbformat_minor": 2
}
