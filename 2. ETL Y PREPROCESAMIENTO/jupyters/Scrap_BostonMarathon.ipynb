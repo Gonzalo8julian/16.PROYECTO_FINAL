{
 "cells": [
  {
   "cell_type": "code",
   "execution_count": 3,
   "metadata": {},
   "outputs": [],
   "source": [
    "import pandas as pd\n",
    "import numpy as np\n",
    "from selenium import webdriver\n",
    "from selenium.webdriver.chrome.service import Service\n",
    "from selenium.webdriver.common.by import By\n",
    "import pandas as pd\n",
    "import time"
   ]
  },
  {
   "cell_type": "code",
   "execution_count": 4,
   "metadata": {},
   "outputs": [],
   "source": [
    "# Opciones de Chrome para hacer webscraping\n",
    "options = webdriver.ChromeOptions()\n",
    "options.add_argument('window-size=1920x1080')   # Ejecutar en segundo plano\n",
    "options.add_argument('--incognito') # Modo incógnito"
   ]
  },
  {
   "cell_type": "code",
   "execution_count": 45,
   "metadata": {},
   "outputs": [
    {
     "name": "stdout",
     "output_type": "stream",
     "text": [
      "Scrapeando página 1...\n",
      "Scrapeando página 2...\n",
      "Scrapeando página 3...\n",
      "Scrapeando página 4...\n",
      "Scrapeando página 5...\n",
      "Scrapeando página 6...\n",
      "Scrapeando página 7...\n",
      "Scrapeando página 8...\n",
      "Scrapeando página 9...\n",
      "Scrapeando página 10...\n",
      "Scrapeando página 11...\n",
      "Scrapeando página 12...\n",
      "Scrapeando página 13...\n",
      "Scrapeando página 14...\n",
      "Scrapeando página 15...\n",
      "Scrapeando página 16...\n",
      "Scrapeando página 17...\n",
      "Scrapeando página 18...\n",
      "Scrapeando página 19...\n",
      "Scrapeando página 20...\n",
      "Scrapeando página 21...\n",
      "Scrapeando página 22...\n",
      "Scrapeando página 23...\n",
      "Scrapeando página 24...\n",
      "Scrapeando página 25...\n",
      "Scrapeando página 26...\n",
      "Scrapeando página 27...\n",
      "Scrapeando página 28...\n",
      "Scrapeando página 29...\n",
      "Scrapeando página 30...\n"
     ]
    }
   ],
   "source": [
    "from selenium import webdriver\n",
    "from selenium.webdriver.common.by import By\n",
    "import time\n",
    "import pandas as pd\n",
    "\n",
    "options = webdriver.ChromeOptions()\n",
    "driver = webdriver.Chrome(options=options)\n",
    "\n",
    "resultados = []\n",
    "\n",
    "for pagina in range(1, 31):  # 30 páginas\n",
    "    print(f\"Scrapeando página {pagina}...\")\n",
    "    url = f\"https://results.baa.org/2024/?event_main_group=runner&num_results=1000&pid=search&page={pagina}&search%5Bage_class%5D=%25&search%5Bnation%5D=%25&search_sort=time_finish_netto&event=R\"\n",
    "    driver.get(url)\n",
    "    time.sleep(4)  # Dale tiempo a que cargue\n",
    "\n",
    "    atletas = driver.find_elements(By.CSS_SELECTOR, \"li.list-group-item.row\")\n",
    "\n",
    "    for atleta in atletas:\n",
    "        try:\n",
    "            place_overall = atleta.find_element(By.CSS_SELECTOR, \".list-field.type-place.place-secondary.hidden-xs.numeric\").text\n",
    "        except:\n",
    "            place_overall = \"Sin posición general\"\n",
    "\n",
    "        try:\n",
    "            place_gender = atleta.find_element(By.CSS_SELECTOR, \".list-field.type-place.place-primary.numeric\").text\n",
    "        except:\n",
    "            place_gender = \"Sin posición género\"\n",
    "\n",
    "        try:\n",
    "            nombre = atleta.find_element(By.CLASS_NAME, \"list-field.type-fullname\").text\n",
    "        except:\n",
    "            nombre = \"Sin nombre\"\n",
    "\n",
    "        try:\n",
    "            finish_net_label = atleta.find_element(By.XPATH, \".//div[.='Finish Net']\")\n",
    "            tiempo_neto = finish_net_label.find_element(By.XPATH, \"../following-sibling::div\").text.strip()\n",
    "        except:\n",
    "            tiempo_neto = \"Sin tiempo neto\"\n",
    "\n",
    "        resultados.append({\n",
    "            \"place_overall\": place_overall,\n",
    "            \"place_gender\": place_gender,\n",
    "            \"nombre\": nombre,\n",
    "            \"tiempo_neto\": tiempo_neto\n",
    "        })\n",
    "\n",
    "driver.quit()\n"
   ]
  },
  {
   "cell_type": "code",
   "execution_count": 46,
   "metadata": {},
   "outputs": [
    {
     "data": {
      "application/vnd.microsoft.datawrangler.viewer.v0+json": {
       "columns": [
        {
         "name": "index",
         "rawType": "int64",
         "type": "integer"
        },
        {
         "name": "place_overall",
         "rawType": "object",
         "type": "string"
        },
        {
         "name": "place_gender",
         "rawType": "object",
         "type": "string"
        },
        {
         "name": "nombre",
         "rawType": "object",
         "type": "string"
        },
        {
         "name": "tiempo_neto",
         "rawType": "object",
         "type": "string"
        }
       ],
       "conversionMethod": "pd.DataFrame",
       "ref": "3fef9e40-999a-4730-8f4a-aa585bdd5078",
       "rows": [
        [
         "0",
         "Sin posición general",
         "Sin posición género",
         "Name",
         "Finish Gun"
        ],
        [
         "1",
         "1",
         "1",
         "Lemma, Sisay",
         "02:06:17"
        ],
        [
         "2",
         "2",
         "2",
         "Esa, Mohamed",
         "02:06:58"
        ],
        [
         "3",
         "3",
         "3",
         "Chebet, Evans",
         "02:07:22"
        ],
        [
         "4",
         "4",
         "4",
         "Korir, John",
         "02:07:40"
        ],
        [
         "5",
         "5",
         "5",
         "Korir, Albert",
         "02:07:47"
        ],
        [
         "6",
         "6",
         "6",
         "Mpofu, Isaac",
         "02:08:17"
        ],
        [
         "7",
         "7",
         "7",
         "Albertson, Cj",
         "02:09:53"
        ],
        [
         "8",
         "8",
         "8",
         "Morii, Yuma",
         "02:09:59"
        ],
        [
         "9",
         "9",
         "9",
         "Kotut, Cybrian",
         "02:10:29"
        ],
        [
         "10",
         "10",
         "10",
         "Talbi, Zouhair",
         "02:10:45"
        ],
        [
         "11",
         "11",
         "11",
         "Kitata, Shura",
         "02:10:52"
        ],
        [
         "12",
         "12",
         "12",
         "Moen, Sondre",
         "02:11:18"
        ],
        [
         "13",
         "13",
         "13",
         "Osako, Suguru",
         "02:11:44"
        ],
        [
         "14",
         "14",
         "14",
         "Kibet, Elkanah",
         "02:12:32"
        ],
        [
         "15",
         "15",
         "15",
         "Eiler, Ryan",
         "02:14:22"
        ],
        [
         "16",
         "16",
         "16",
         "Haileselassie, Yemane",
         "02:14:44"
        ],
        [
         "17",
         "17",
         "17",
         "Kobe, Primoz",
         "02:14:56"
        ],
        [
         "18",
         "18",
         "18",
         "Smyth, Patrick",
         "02:15:45"
        ],
        [
         "19",
         "19",
         "19",
         "O'Connor, Grant",
         "02:16:17"
        ],
        [
         "20",
         "20",
         "20",
         "Alexandru, Corneschi",
         "02:16:23"
        ],
        [
         "21",
         "21",
         "21",
         "Miranda, Robert",
         "02:16:28"
        ],
        [
         "22",
         "22",
         "22",
         "Takeuchi, Ryoma",
         "02:16:43"
        ],
        [
         "23",
         "23",
         "23",
         "Baum, Lorenz",
         "02:16:51"
        ],
        [
         "24",
         "24",
         "24",
         "Shiohira, Jacob",
         "02:17:08"
        ],
        [
         "25",
         "25",
         "25",
         "Otsu, Kento",
         "02:17:57"
        ],
        [
         "26",
         "26",
         "26",
         "Mugrage, Kristoffer",
         "02:18:46"
        ],
        [
         "27",
         "27",
         "27",
         "Leach, Prescott",
         "02:19:50"
        ],
        [
         "28",
         "28",
         "28",
         "Grano, Giovanni",
         "02:19:56"
        ],
        [
         "29",
         "29",
         "29",
         "Mccann, Andrew",
         "02:20:06"
        ],
        [
         "30",
         "30",
         "30",
         "Conn, Joel",
         "02:21:35"
        ],
        [
         "31",
         "31",
         "31",
         "Sanca, Ruben",
         "02:21:43"
        ],
        [
         "32",
         "32",
         "32",
         "Mcdonald, Matthew",
         "02:21:55"
        ],
        [
         "33",
         "33",
         "33",
         "Weldlibanos, Tsegay",
         "02:22:00"
        ],
        [
         "34",
         "34",
         "34",
         "Hunt, Craig",
         "02:22:07"
        ],
        [
         "35",
         "35",
         "35",
         "Gomez Mejia, Victor Daniel",
         "02:22:10"
        ],
        [
         "36",
         "36",
         "36",
         "Morse, Sam",
         "02:22:21"
        ],
        [
         "37",
         "37",
         "1",
         "Obiri, Hellen",
         "02:22:37"
        ],
        [
         "38",
         "38",
         "37",
         "Whelan, Joseph",
         "02:22:44"
        ],
        [
         "39",
         "39",
         "2",
         "Lokedi, Sharon",
         "02:22:45"
        ],
        [
         "40",
         "40",
         "3",
         "Kiplagat, Edna",
         "02:23:21"
        ],
        [
         "41",
         "41",
         "38",
         "Fazioli, Samuel",
         "02:23:52"
        ],
        [
         "42",
         "42",
         "4",
         "Diriba, Buze",
         "02:24:04"
        ],
        [
         "43",
         "43",
         "39",
         "Hamilton, Tyler",
         "02:24:08"
        ],
        [
         "44",
         "44",
         "5",
         "Teferi, Senbere",
         "02:24:04"
        ],
        [
         "45",
         "45",
         "40",
         "Nation, Will",
         "02:24:18"
        ],
        [
         "46",
         "46",
         "6",
         "Ngugi, Mary",
         "02:24:24"
        ],
        [
         "47",
         "47",
         "41",
         "Morone, Miguel",
         "02:24:27"
        ],
        [
         "48",
         "48",
         "42",
         "Dimitri, Brandon",
         "02:24:36"
        ],
        [
         "49",
         "49",
         "43",
         "Toth, Thomas",
         "02:24:34"
        ]
       ],
       "shape": {
        "columns": 4,
        "rows": 29360
       }
      },
      "text/html": [
       "<div>\n",
       "<style scoped>\n",
       "    .dataframe tbody tr th:only-of-type {\n",
       "        vertical-align: middle;\n",
       "    }\n",
       "\n",
       "    .dataframe tbody tr th {\n",
       "        vertical-align: top;\n",
       "    }\n",
       "\n",
       "    .dataframe thead th {\n",
       "        text-align: right;\n",
       "    }\n",
       "</style>\n",
       "<table border=\"1\" class=\"dataframe\">\n",
       "  <thead>\n",
       "    <tr style=\"text-align: right;\">\n",
       "      <th></th>\n",
       "      <th>place_overall</th>\n",
       "      <th>place_gender</th>\n",
       "      <th>nombre</th>\n",
       "      <th>tiempo_neto</th>\n",
       "    </tr>\n",
       "  </thead>\n",
       "  <tbody>\n",
       "    <tr>\n",
       "      <th>0</th>\n",
       "      <td>Sin posición general</td>\n",
       "      <td>Sin posición género</td>\n",
       "      <td>Name</td>\n",
       "      <td>Finish Gun</td>\n",
       "    </tr>\n",
       "    <tr>\n",
       "      <th>1</th>\n",
       "      <td>1</td>\n",
       "      <td>1</td>\n",
       "      <td>Lemma, Sisay</td>\n",
       "      <td>02:06:17</td>\n",
       "    </tr>\n",
       "    <tr>\n",
       "      <th>2</th>\n",
       "      <td>2</td>\n",
       "      <td>2</td>\n",
       "      <td>Esa, Mohamed</td>\n",
       "      <td>02:06:58</td>\n",
       "    </tr>\n",
       "    <tr>\n",
       "      <th>3</th>\n",
       "      <td>3</td>\n",
       "      <td>3</td>\n",
       "      <td>Chebet, Evans</td>\n",
       "      <td>02:07:22</td>\n",
       "    </tr>\n",
       "    <tr>\n",
       "      <th>4</th>\n",
       "      <td>4</td>\n",
       "      <td>4</td>\n",
       "      <td>Korir, John</td>\n",
       "      <td>02:07:40</td>\n",
       "    </tr>\n",
       "    <tr>\n",
       "      <th>...</th>\n",
       "      <td>...</td>\n",
       "      <td>...</td>\n",
       "      <td>...</td>\n",
       "      <td>...</td>\n",
       "    </tr>\n",
       "    <tr>\n",
       "      <th>29355</th>\n",
       "      <td>Sin posición general</td>\n",
       "      <td>Sin posición género</td>\n",
       "      <td>Williams, Lawrence</td>\n",
       "      <td>Finish Gun\\n–</td>\n",
       "    </tr>\n",
       "    <tr>\n",
       "      <th>29356</th>\n",
       "      <td>Sin posición general</td>\n",
       "      <td>Sin posición género</td>\n",
       "      <td>Mc Donnell, Anne Marie</td>\n",
       "      <td>Finish Gun\\n–</td>\n",
       "    </tr>\n",
       "    <tr>\n",
       "      <th>29357</th>\n",
       "      <td>Sin posición general</td>\n",
       "      <td>Sin posición género</td>\n",
       "      <td>Hoopingarner, Laura</td>\n",
       "      <td>Finish Gun\\n–</td>\n",
       "    </tr>\n",
       "    <tr>\n",
       "      <th>29358</th>\n",
       "      <td>Sin posición general</td>\n",
       "      <td>Sin posición género</td>\n",
       "      <td>Booth, Kathlyn</td>\n",
       "      <td>Finish Gun\\n–</td>\n",
       "    </tr>\n",
       "    <tr>\n",
       "      <th>29359</th>\n",
       "      <td>Sin posición general</td>\n",
       "      <td>Sin posición género</td>\n",
       "      <td>Cochrane, Jacqueline</td>\n",
       "      <td>Finish Gun\\n–</td>\n",
       "    </tr>\n",
       "  </tbody>\n",
       "</table>\n",
       "<p>29360 rows × 4 columns</p>\n",
       "</div>"
      ],
      "text/plain": [
       "              place_overall         place_gender                  nombre  \\\n",
       "0      Sin posición general  Sin posición género                    Name   \n",
       "1                         1                    1            Lemma, Sisay   \n",
       "2                         2                    2            Esa, Mohamed   \n",
       "3                         3                    3           Chebet, Evans   \n",
       "4                         4                    4             Korir, John   \n",
       "...                     ...                  ...                     ...   \n",
       "29355  Sin posición general  Sin posición género      Williams, Lawrence   \n",
       "29356  Sin posición general  Sin posición género  Mc Donnell, Anne Marie   \n",
       "29357  Sin posición general  Sin posición género     Hoopingarner, Laura   \n",
       "29358  Sin posición general  Sin posición género          Booth, Kathlyn   \n",
       "29359  Sin posición general  Sin posición género    Cochrane, Jacqueline   \n",
       "\n",
       "         tiempo_neto  \n",
       "0         Finish Gun  \n",
       "1           02:06:17  \n",
       "2           02:06:58  \n",
       "3           02:07:22  \n",
       "4           02:07:40  \n",
       "...              ...  \n",
       "29355  Finish Gun\\n–  \n",
       "29356  Finish Gun\\n–  \n",
       "29357  Finish Gun\\n–  \n",
       "29358  Finish Gun\\n–  \n",
       "29359  Finish Gun\\n–  \n",
       "\n",
       "[29360 rows x 4 columns]"
      ]
     },
     "execution_count": 46,
     "metadata": {},
     "output_type": "execute_result"
    }
   ],
   "source": [
    "resultados_df = pd.DataFrame(resultados)\n",
    "resultados_df"
   ]
  },
  {
   "cell_type": "code",
   "execution_count": 48,
   "metadata": {},
   "outputs": [],
   "source": [
    "# Guardar en CSV\n",
    "resultados_df.to_csv(\"resultados_boston.csv\", index=False)"
   ]
  },
  {
   "cell_type": "code",
   "execution_count": 49,
   "metadata": {},
   "outputs": [
    {
     "name": "stdout",
     "output_type": "stream",
     "text": [
      "<class 'pandas.core.frame.DataFrame'>\n",
      "RangeIndex: 29360 entries, 0 to 29359\n",
      "Data columns (total 4 columns):\n",
      " #   Column         Non-Null Count  Dtype \n",
      "---  ------         --------------  ----- \n",
      " 0   place_overall  29360 non-null  object\n",
      " 1   place_gender   29360 non-null  object\n",
      " 2   nombre         29360 non-null  object\n",
      " 3   tiempo_neto    29360 non-null  object\n",
      "dtypes: object(4)\n",
      "memory usage: 917.6+ KB\n"
     ]
    }
   ],
   "source": [
    "resultados_df.info()"
   ]
  }
 ],
 "metadata": {
  "kernelspec": {
   "display_name": "venv",
   "language": "python",
   "name": "python3"
  },
  "language_info": {
   "codemirror_mode": {
    "name": "ipython",
    "version": 3
   },
   "file_extension": ".py",
   "mimetype": "text/x-python",
   "name": "python",
   "nbconvert_exporter": "python",
   "pygments_lexer": "ipython3",
   "version": "3.12.4"
  }
 },
 "nbformat": 4,
 "nbformat_minor": 2
}
