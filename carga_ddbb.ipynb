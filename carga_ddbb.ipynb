{
 "cells": [
  {
   "cell_type": "code",
   "execution_count": 96,
   "metadata": {},
   "outputs": [
    {
     "name": "stdout",
     "output_type": "stream",
     "text": [
      "Defaulting to user installation because normal site-packages is not writeable\n",
      "Requirement already satisfied: psycopg2 in /Users/gonzalo/Library/Python/3.9/lib/python/site-packages (2.9.10)\n",
      "\n",
      "\u001b[1m[\u001b[0m\u001b[34;49mnotice\u001b[0m\u001b[1;39;49m]\u001b[0m\u001b[39;49m A new release of pip is available: \u001b[0m\u001b[31;49m24.1.1\u001b[0m\u001b[39;49m -> \u001b[0m\u001b[32;49m25.0.1\u001b[0m\n",
      "\u001b[1m[\u001b[0m\u001b[34;49mnotice\u001b[0m\u001b[1;39;49m]\u001b[0m\u001b[39;49m To update, run: \u001b[0m\u001b[32;49m/Library/Developer/CommandLineTools/usr/bin/python3 -m pip install --upgrade pip\u001b[0m\n",
      "Note: you may need to restart the kernel to use updated packages.\n"
     ]
    }
   ],
   "source": [
    "pip install psycopg2"
   ]
  },
  {
   "cell_type": "code",
   "execution_count": 97,
   "metadata": {},
   "outputs": [],
   "source": [
    "import pandas as pd\n",
    "import numpy as np\n",
    "import psycopg2"
   ]
  },
  {
   "cell_type": "markdown",
   "metadata": {},
   "source": [
    "### Métodos de la librería"
   ]
  },
  {
   "cell_type": "code",
   "execution_count": 98,
   "metadata": {},
   "outputs": [],
   "source": [
    "#Creamos una variable para crear la conexión.\n",
    "conn = psycopg2.connect(\n",
    "    dbname = \"online_sales\",\n",
    "    user = \"my_user\",\n",
    "    password = \"admin\",\n",
    "    host = \"localhost\",\n",
    "    port = \"5432\"\n",
    ")"
   ]
  },
  {
   "cell_type": "code",
   "execution_count": 99,
   "metadata": {},
   "outputs": [],
   "source": [
    "cur = conn.cursor()"
   ]
  },
  {
   "cell_type": "code",
   "execution_count": 100,
   "metadata": {},
   "outputs": [
    {
     "data": {
      "text/plain": [
       "('PostgreSQL 14.12 (Homebrew) on aarch64-apple-darwin23.4.0, compiled by Apple clang version 15.0.0 (clang-1500.3.9.4), 64-bit',)"
      ]
     },
     "execution_count": 100,
     "metadata": {},
     "output_type": "execute_result"
    }
   ],
   "source": [
    "cur.execute(\"SELECT version();\")\n",
    "cur.fetchone()"
   ]
  },
  {
   "cell_type": "code",
   "execution_count": 101,
   "metadata": {},
   "outputs": [],
   "source": [
    "insert_query = \"\"\"\n",
    "                  INSERT INTO clientes(id_cliente, nombre, apellido, fecha_nacimiento, mail)\n",
    "                  VALUES('123abc','Jaime','Rollon', '06-05-2000', 'ejemplo@gmail.com')\n",
    "                \n",
    "\"\"\"\n",
    "cur.execute(insert_query)\n"
   ]
  },
  {
   "cell_type": "code",
   "execution_count": 102,
   "metadata": {},
   "outputs": [],
   "source": [
    "query_elimination = \"\"\"\n",
    "DELETE FROM clientes WHERE id_cliente = %s\n",
    "\"\"\"\n",
    "\n",
    "cur.execute(query_elimination, ('123abc', ))\n"
   ]
  },
  {
   "cell_type": "code",
   "execution_count": 103,
   "metadata": {},
   "outputs": [],
   "source": [
    "conn.rollback()"
   ]
  },
  {
   "cell_type": "code",
   "execution_count": 104,
   "metadata": {},
   "outputs": [
    {
     "name": "stdout",
     "output_type": "stream",
     "text": [
      "<class 'pandas.core.frame.DataFrame'>\n",
      "RangeIndex: 20000 entries, 0 to 19999\n",
      "Data columns (total 16 columns):\n",
      " #   Column                  Non-Null Count  Dtype  \n",
      "---  ------                  --------------  -----  \n",
      " 0   id_venta                20000 non-null  object \n",
      " 1   fecha_venta             20000 non-null  object \n",
      " 2   fecha_entrega_prevista  20000 non-null  object \n",
      " 3   fecha_entrega_real      20000 non-null  object \n",
      " 4   id_cliente              20000 non-null  object \n",
      " 5   fecha_nacimiento        20000 non-null  object \n",
      " 6   mail                    20000 non-null  object \n",
      " 7   categoria_producto      20000 non-null  object \n",
      " 8   nombre_producto         20000 non-null  object \n",
      " 9   precio_unitario         20000 non-null  float64\n",
      " 10  descuento               20000 non-null  float64\n",
      " 11  cantidad_comprada       20000 non-null  int64  \n",
      " 12  municipio               20000 non-null  object \n",
      " 13  monto_total             20000 non-null  float64\n",
      " 14  nombre                  20000 non-null  object \n",
      " 15  apellido                20000 non-null  object \n",
      "dtypes: float64(3), int64(1), object(12)\n",
      "memory usage: 2.4+ MB\n"
     ]
    }
   ],
   "source": [
    "#Tabla clientes\n",
    "df_ventas = pd.read_csv(\"../datos/dataset_ventas_limpio.csv\")\n",
    "df_ventas.info()"
   ]
  },
  {
   "cell_type": "code",
   "execution_count": 105,
   "metadata": {},
   "outputs": [
    {
     "data": {
      "application/vnd.microsoft.datawrangler.viewer.v0+json": {
       "columns": [
        {
         "name": "index",
         "rawType": "int64",
         "type": "integer"
        },
        {
         "name": "id_cliente",
         "rawType": "object",
         "type": "string"
        },
        {
         "name": "nombre",
         "rawType": "object",
         "type": "string"
        },
        {
         "name": "apellido",
         "rawType": "object",
         "type": "string"
        },
        {
         "name": "fecha_nacimiento",
         "rawType": "object",
         "type": "string"
        },
        {
         "name": "mail",
         "rawType": "object",
         "type": "string"
        }
       ],
       "conversionMethod": "pd.DataFrame",
       "ref": "7dacaeea-2814-40c3-9350-ce0b92ec9b21",
       "rows": [
        [
         "0",
         "77150ed6-c644-42d4-857e-fc73890b808c",
         "Zoraida",
         "Roselló-Piquer",
         "1964-07-08",
         "zoraidaroselló-piquer@mail.com"
        ],
        [
         "1",
         "0728f6c5-6fc4-4370-82c1-fb25b1b8a2a7",
         "Hermenegildo",
         "Alegria Pi",
         "1961-02-03",
         "hermenegildoalegriapi@mail.com"
        ],
        [
         "2",
         "23178f23-f716-49f2-9db3-e2808debf0e3",
         "Matías",
         "Solís Guardiola",
         "1997-11-09",
         "matíassolísguardiola@mail.com"
        ],
        [
         "3",
         "65da15f0-bd12-4db0-ba7f-25a8cbd3375c",
         "Cristóbal",
         "Sastre Escudero",
         "1976-11-21",
         "cristóbalsastreescudero@mail.com"
        ],
        [
         "4",
         "03681f50-b1d0-486b-b66b-804465c9a4b7",
         "Hipólito",
         "Sedano Canet",
         "1973-09-09",
         "hipólitosedanocanet@mail.com"
        ],
        [
         "5",
         "97c99a70-2834-43f4-9bb9-d90e078585cb",
         "Alma",
         "Riquelme Buendía",
         "1978-10-09",
         "almariquelmebuendía@mail.com"
        ],
        [
         "6",
         "c3ac7b33-0ee2-4ded-8e93-04454cae54d6",
         "Julio",
         "del Mata",
         "1968-11-24",
         "juliodelmata@mail.com"
        ],
        [
         "7",
         "8362a214-7ce0-4781-87d5-05cdd7dddbfa",
         "Gil",
         "Pinilla-Dalmau",
         "1981-08-02",
         "gilpinilla-dalmau@mail.com"
        ],
        [
         "8",
         "c8101d27-31c8-4fb0-9ed6-bb8c0e5b46e3",
         "Julio",
         "Mancebo Huertas",
         "1964-10-23",
         "juliomancebohuertas@mail.com"
        ],
        [
         "9",
         "f730b5b9-9e73-4a5e-9ea7-0906dad57f64",
         "Francisco",
         "Solana Cardona",
         "1972-03-22",
         "franciscosolanacardona@mail.com"
        ],
        [
         "10",
         "f23aca49-a6f6-407b-8d67-a6b53d264277",
         "Mariana",
         "del Rosa",
         "1987-12-27",
         "marianadelrosa@mail.com"
        ],
        [
         "11",
         "2a27adba-428a-4ef1-91bc-bb063d7f4a28",
         "Anabel",
         "Moles Torre",
         "1960-05-03",
         "anabelmolestorre@mail.com"
        ],
        [
         "12",
         "fa4f7916-ec28-4fdc-913a-34716a832c2c",
         "Jacinto Raúl",
         "Palomino Perales",
         "1988-11-01",
         "jacintoraúlpalominoperales@mail.com"
        ],
        [
         "13",
         "77a8ce04-831a-443e-8d4e-92156cbc22f1",
         "Eliseo",
         "Barragán Soriano",
         "1983-05-03",
         "eliseobarragánsoriano@mail.com"
        ],
        [
         "14",
         "d6f66166-3f51-4774-9108-0b597845d509",
         "Jose Antonio",
         "Larrea Bonet",
         "1982-04-26",
         "joseantoniolarreabonet@mail.com"
        ],
        [
         "15",
         "5365007e-08fc-455b-9ff3-46d3b7fef89b",
         "Isabela",
         "Uriarte Aragón",
         "2001-04-13",
         "isabelauriartearagón@mail.com"
        ],
        [
         "16",
         "5c25cc10-87bd-4e8d-8ac8-2cf206f4ef3a",
         "Germán",
         "Pellicer",
         "1974-11-28",
         "germánpellicer@mail.com"
        ],
        [
         "17",
         "8ca44af5-f251-4999-ae63-5c058dd135a7",
         "Prudencia",
         "Nuñez Segovia",
         "1976-05-03",
         "prudencianuñezsegovia@mail.com"
        ],
        [
         "18",
         "ad95561a-c346-4418-8046-4e5fb0a22d98",
         "Elisabet",
         "Valcárcel",
         "1989-09-12",
         "elisabetvalcárcel@mail.com"
        ],
        [
         "19",
         "0f821aa7-4e46-45ff-b4f3-7e45a96aba5c",
         "Manolo",
         "Murcia Solsona",
         "1970-05-20",
         "manolomurciasolsona@mail.com"
        ],
        [
         "20",
         "11d52959-2231-4a26-bf65-a5fdd2be0338",
         "Trini",
         "Andreu Barco",
         "1989-06-27",
         "triniandreubarco@mail.com"
        ],
        [
         "21",
         "b811cb29-c589-4ab8-a458-056e61e37da6",
         "Angelino",
         "Hoyos-Barbero",
         "1984-06-27",
         "angelinohoyos-barbero@mail.com"
        ],
        [
         "22",
         "f5696efe-1790-4129-bbd5-801260fb8348",
         "Marta",
         "Alcalá Ballester",
         "1982-07-10",
         "martaalcaláballester@mail.com"
        ],
        [
         "23",
         "e8f1886d-8943-42eb-86e8-edd3da8b700e",
         "José",
         "Hervia Salinas",
         "1972-10-11",
         "joséherviasalinas@mail.com"
        ],
        [
         "24",
         "10ae7584-b7aa-4de7-9d54-fb63ea8c6039",
         "Augusto",
         "Lasa Pedro",
         "1997-04-06",
         "augustolasapedro@mail.com"
        ],
        [
         "25",
         "63ffd692-fc06-4743-a08a-54f59199c83a",
         "Cruz",
         "del Solera",
         "1970-08-08",
         "cruzdelsolera@mail.com"
        ],
        [
         "26",
         "11d81317-90dc-461e-a0d1-d69f456936f2",
         "Roberta",
         "Pizarro Blanch",
         "1995-01-23",
         "robertapizarroblanch@mail.com"
        ],
        [
         "27",
         "66a51da1-740b-49d3-a9e3-4a6957095ad2",
         "Ovidio",
         "Tudela",
         "1995-10-18",
         "ovidiotudela@mail.com"
        ],
        [
         "28",
         "4fe8e909-a91b-464e-adfa-607f26f300e7",
         "Prudencio",
         "Lamas Lledó",
         "1997-11-30",
         "prudenciolamaslledó@mail.com"
        ],
        [
         "29",
         "00f3285f-77aa-455a-9372-5f4c9a108abe",
         "Fabián",
         "de Folch",
         "1990-01-03",
         "fabiándefolch@mail.com"
        ],
        [
         "30",
         "b7f2e36c-db9c-4930-9d2a-614f50c57170",
         "Nicolás",
         "del Cano",
         "1985-12-15",
         "nicolásdelcano@mail.com"
        ],
        [
         "31",
         "71dbd8d9-0ae2-43a0-8602-f001dd57e3ef",
         "Arcelia",
         "Polo Ferrándiz",
         "1970-12-19",
         "arceliapoloferrándiz@mail.com"
        ],
        [
         "32",
         "87f61261-a765-4206-b33e-24f379cfbf6b",
         "Severo",
         "Roldan Montserrat",
         "1983-09-12",
         "severoroldanmontserrat@mail.com"
        ],
        [
         "33",
         "22dba800-e3a4-4c2f-938f-bb764ea1f1fa",
         "Eusebio",
         "Mayoral Quevedo",
         "1974-08-31",
         "eusebiomayoralquevedo@mail.com"
        ],
        [
         "34",
         "0fe04a23-45d7-4e92-91e6-8d3a8a7ab33e",
         "Yésica",
         "Cases Baeza",
         "1960-01-13",
         "yésicacasesbaeza@mail.com"
        ],
        [
         "35",
         "2d7bb555-397e-4547-adf8-ad364d9060b4",
         "Bernabé",
         "Viana Donaire",
         "1961-06-24",
         "bernabévianadonaire@mail.com"
        ],
        [
         "36",
         "eb382707-d5c8-4507-8d84-51eb2359b9d9",
         "José Antonio",
         "Jurado Saura",
         "1987-07-11",
         "joséantoniojuradosaura@mail.com"
        ],
        [
         "37",
         "f463385c-df3e-4b6d-a82e-ec0671c1f300",
         "Georgina",
         "Robles Vilalta",
         "1971-12-08",
         "georginaroblesvilalta@mail.com"
        ],
        [
         "38",
         "3140cf2c-78d8-41cd-a3f0-2553efe2f990",
         "Estefanía Beatriz",
         "Carpio Ochoa",
         "1989-01-05",
         "estefaníabeatrizcarpioochoa@mail.com"
        ],
        [
         "39",
         "cfe2cd33-e849-4cac-ac3d-76e57d9d16b9",
         "Felisa",
         "Marti Elorza",
         "1990-04-06",
         "felisamartielorza@mail.com"
        ],
        [
         "40",
         "a2a265e3-28db-4c49-aa12-76bc743ba06f",
         "Nieves",
         "Sureda Galán",
         "1981-09-17",
         "nievessuredagalán@mail.com"
        ],
        [
         "41",
         "0f69eb66-aac4-421d-ad85-c09a378c1ed1",
         "Ramón",
         "Miralles Cortes",
         "1961-12-13",
         "ramónmirallescortes@mail.com"
        ],
        [
         "42",
         "0d7cd78e-8d55-4df1-b5ed-b11c6cb45c49",
         "Lara",
         "Bermudez Madrid",
         "1975-01-07",
         "larabermudezmadrid@mail.com"
        ],
        [
         "43",
         "5e8c20f9-499f-4794-8d16-0f5d475f212f",
         "Natalia",
         "Capdevila Parra",
         "1977-11-09",
         "nataliacapdevilaparra@mail.com"
        ],
        [
         "44",
         "18fded83-d2ca-439a-a824-cc6c7c8b8b5d",
         "Balduino",
         "Duran",
         "1979-03-26",
         "balduinoduran@mail.com"
        ],
        [
         "45",
         "bc6b14fb-5702-477d-bdc2-34ebd3708ede",
         "Baudelio",
         "Gibert Ballester",
         "1960-10-09",
         "baudeliogibertballester@mail.com"
        ],
        [
         "46",
         "ad8b349e-42c1-48f5-8677-2005ff02c2af",
         "Manuelita",
         "del Luz",
         "1962-08-25",
         "manuelitadelluz@mail.com"
        ],
        [
         "47",
         "ab20d7bb-5c94-406a-9d1c-da101c4b8c15",
         "Aureliano",
         "de Neira",
         "1973-09-03",
         "aurelianodeneira@mail.com"
        ],
        [
         "48",
         "9b1a4099-7a12-4224-9cb7-7c8ce14a6693",
         "Félix",
         "Guillén",
         "1976-11-04",
         "félixguillén@mail.com"
        ],
        [
         "49",
         "be33da7b-b4b3-447c-a4c3-6e3e0ef49ddb",
         "Desiderio",
         "Acuña Salamanca",
         "1963-10-30",
         "desiderioacuñasalamanca@mail.com"
        ]
       ],
       "shape": {
        "columns": 5,
        "rows": 20000
       }
      },
      "text/html": [
       "<div>\n",
       "<style scoped>\n",
       "    .dataframe tbody tr th:only-of-type {\n",
       "        vertical-align: middle;\n",
       "    }\n",
       "\n",
       "    .dataframe tbody tr th {\n",
       "        vertical-align: top;\n",
       "    }\n",
       "\n",
       "    .dataframe thead th {\n",
       "        text-align: right;\n",
       "    }\n",
       "</style>\n",
       "<table border=\"1\" class=\"dataframe\">\n",
       "  <thead>\n",
       "    <tr style=\"text-align: right;\">\n",
       "      <th></th>\n",
       "      <th>id_cliente</th>\n",
       "      <th>nombre</th>\n",
       "      <th>apellido</th>\n",
       "      <th>fecha_nacimiento</th>\n",
       "      <th>mail</th>\n",
       "    </tr>\n",
       "  </thead>\n",
       "  <tbody>\n",
       "    <tr>\n",
       "      <th>0</th>\n",
       "      <td>77150ed6-c644-42d4-857e-fc73890b808c</td>\n",
       "      <td>Zoraida</td>\n",
       "      <td>Roselló-Piquer</td>\n",
       "      <td>1964-07-08</td>\n",
       "      <td>zoraidaroselló-piquer@mail.com</td>\n",
       "    </tr>\n",
       "    <tr>\n",
       "      <th>1</th>\n",
       "      <td>0728f6c5-6fc4-4370-82c1-fb25b1b8a2a7</td>\n",
       "      <td>Hermenegildo</td>\n",
       "      <td>Alegria Pi</td>\n",
       "      <td>1961-02-03</td>\n",
       "      <td>hermenegildoalegriapi@mail.com</td>\n",
       "    </tr>\n",
       "    <tr>\n",
       "      <th>2</th>\n",
       "      <td>23178f23-f716-49f2-9db3-e2808debf0e3</td>\n",
       "      <td>Matías</td>\n",
       "      <td>Solís Guardiola</td>\n",
       "      <td>1997-11-09</td>\n",
       "      <td>matíassolísguardiola@mail.com</td>\n",
       "    </tr>\n",
       "    <tr>\n",
       "      <th>3</th>\n",
       "      <td>65da15f0-bd12-4db0-ba7f-25a8cbd3375c</td>\n",
       "      <td>Cristóbal</td>\n",
       "      <td>Sastre Escudero</td>\n",
       "      <td>1976-11-21</td>\n",
       "      <td>cristóbalsastreescudero@mail.com</td>\n",
       "    </tr>\n",
       "    <tr>\n",
       "      <th>4</th>\n",
       "      <td>03681f50-b1d0-486b-b66b-804465c9a4b7</td>\n",
       "      <td>Hipólito</td>\n",
       "      <td>Sedano Canet</td>\n",
       "      <td>1973-09-09</td>\n",
       "      <td>hipólitosedanocanet@mail.com</td>\n",
       "    </tr>\n",
       "    <tr>\n",
       "      <th>...</th>\n",
       "      <td>...</td>\n",
       "      <td>...</td>\n",
       "      <td>...</td>\n",
       "      <td>...</td>\n",
       "      <td>...</td>\n",
       "    </tr>\n",
       "    <tr>\n",
       "      <th>19995</th>\n",
       "      <td>07b1c26f-c6a5-49ae-9e02-f8738a365bc5</td>\n",
       "      <td>Gema</td>\n",
       "      <td>Mateu Maldonado</td>\n",
       "      <td>1967-07-29</td>\n",
       "      <td>gemamateumaldonado@mail.com</td>\n",
       "    </tr>\n",
       "    <tr>\n",
       "      <th>19996</th>\n",
       "      <td>ab20d7bb-5c94-406a-9d1c-da101c4b8c15</td>\n",
       "      <td>Aureliano</td>\n",
       "      <td>de Neira</td>\n",
       "      <td>1973-09-03</td>\n",
       "      <td>aurelianodeneira@mail.com</td>\n",
       "    </tr>\n",
       "    <tr>\n",
       "      <th>19997</th>\n",
       "      <td>0f821aa7-4e46-45ff-b4f3-7e45a96aba5c</td>\n",
       "      <td>Manolo</td>\n",
       "      <td>Murcia Solsona</td>\n",
       "      <td>1970-05-20</td>\n",
       "      <td>manolomurciasolsona@mail.com</td>\n",
       "    </tr>\n",
       "    <tr>\n",
       "      <th>19998</th>\n",
       "      <td>632b83ef-d62a-4fae-b084-b29fdd10478a</td>\n",
       "      <td>Jenny</td>\n",
       "      <td>Cerdá-Olivares</td>\n",
       "      <td>1992-02-15</td>\n",
       "      <td>jennycerdá-olivares@mail.com</td>\n",
       "    </tr>\n",
       "    <tr>\n",
       "      <th>19999</th>\n",
       "      <td>a79b6741-ec93-42a6-8dfd-3d9130ed2ee9</td>\n",
       "      <td>Dora</td>\n",
       "      <td>de Amores</td>\n",
       "      <td>1997-05-12</td>\n",
       "      <td>doradeamores@mail.com</td>\n",
       "    </tr>\n",
       "  </tbody>\n",
       "</table>\n",
       "<p>20000 rows × 5 columns</p>\n",
       "</div>"
      ],
      "text/plain": [
       "                                 id_cliente        nombre         apellido  \\\n",
       "0      77150ed6-c644-42d4-857e-fc73890b808c       Zoraida   Roselló-Piquer   \n",
       "1      0728f6c5-6fc4-4370-82c1-fb25b1b8a2a7  Hermenegildo       Alegria Pi   \n",
       "2      23178f23-f716-49f2-9db3-e2808debf0e3        Matías  Solís Guardiola   \n",
       "3      65da15f0-bd12-4db0-ba7f-25a8cbd3375c     Cristóbal  Sastre Escudero   \n",
       "4      03681f50-b1d0-486b-b66b-804465c9a4b7      Hipólito     Sedano Canet   \n",
       "...                                     ...           ...              ...   \n",
       "19995  07b1c26f-c6a5-49ae-9e02-f8738a365bc5          Gema  Mateu Maldonado   \n",
       "19996  ab20d7bb-5c94-406a-9d1c-da101c4b8c15     Aureliano         de Neira   \n",
       "19997  0f821aa7-4e46-45ff-b4f3-7e45a96aba5c        Manolo   Murcia Solsona   \n",
       "19998  632b83ef-d62a-4fae-b084-b29fdd10478a         Jenny   Cerdá-Olivares   \n",
       "19999  a79b6741-ec93-42a6-8dfd-3d9130ed2ee9          Dora        de Amores   \n",
       "\n",
       "      fecha_nacimiento                              mail  \n",
       "0           1964-07-08    zoraidaroselló-piquer@mail.com  \n",
       "1           1961-02-03    hermenegildoalegriapi@mail.com  \n",
       "2           1997-11-09     matíassolísguardiola@mail.com  \n",
       "3           1976-11-21  cristóbalsastreescudero@mail.com  \n",
       "4           1973-09-09      hipólitosedanocanet@mail.com  \n",
       "...                ...                               ...  \n",
       "19995       1967-07-29       gemamateumaldonado@mail.com  \n",
       "19996       1973-09-03         aurelianodeneira@mail.com  \n",
       "19997       1970-05-20      manolomurciasolsona@mail.com  \n",
       "19998       1992-02-15      jennycerdá-olivares@mail.com  \n",
       "19999       1997-05-12             doradeamores@mail.com  \n",
       "\n",
       "[20000 rows x 5 columns]"
      ]
     },
     "execution_count": 105,
     "metadata": {},
     "output_type": "execute_result"
    }
   ],
   "source": [
    "tabla_clientes = df_ventas[['id_cliente', 'nombre', 'apellido', 'fecha_nacimiento', 'mail']]\n",
    "tabla_clientes"
   ]
  },
  {
   "cell_type": "code",
   "execution_count": 106,
   "metadata": {},
   "outputs": [],
   "source": [
    "tabla_clientes = tabla_clientes.drop_duplicates()"
   ]
  },
  {
   "cell_type": "code",
   "execution_count": 107,
   "metadata": {},
   "outputs": [
    {
     "data": {
      "application/vnd.microsoft.datawrangler.viewer.v0+json": {
       "columns": [
        {
         "name": "index",
         "rawType": "int64",
         "type": "integer"
        },
        {
         "name": "id_cliente",
         "rawType": "object",
         "type": "string"
        },
        {
         "name": "nombre",
         "rawType": "object",
         "type": "string"
        },
        {
         "name": "apellido",
         "rawType": "object",
         "type": "string"
        },
        {
         "name": "fecha_nacimiento",
         "rawType": "object",
         "type": "string"
        },
        {
         "name": "mail",
         "rawType": "object",
         "type": "string"
        }
       ],
       "conversionMethod": "pd.DataFrame",
       "ref": "bc26c319-cc8a-49f4-9019-b8714715d3b6",
       "rows": [
        [
         "7800",
         "abe9d921-884a-4191-9301-0143e95bbfcb",
         "Susanita",
         "de Casares",
         "1983-03-22",
         "susanitadecasares@mail.com"
        ],
        [
         "493",
         "9136d8d2-6383-4971-b5c7-371b9e9ee1d7",
         "Telmo",
         "Hidalgo Solera",
         "1989-10-29",
         "telmohidalgosolera@mail.com"
        ],
        [
         "1500",
         "c19d8c73-5548-450a-8086-589c9c85ced3",
         "Óscar",
         "Rosselló Abril",
         "1961-01-17",
         "óscarrossellóabril@mail.com"
        ],
        [
         "1368",
         "77a0ddce-8a28-43c9-81d1-c5a38e994758",
         "Hortensia",
         "Serra Guzman",
         "1971-08-02",
         "hortensiaserraguzman@mail.com"
        ],
        [
         "9919",
         "557c524b-7bb5-4b71-80f9-fb33fd595d0d",
         "Guiomar",
         "Salazar Jara",
         "1990-11-02",
         "guiomarsalazarjara@mail.com"
        ],
        [
         "338",
         "58e22293-f29e-4b69-b8f7-f4ab1133cac2",
         "Flavio",
         "del Gimeno",
         "1980-04-25",
         "flaviodelgimeno@mail.com"
        ],
        [
         "7051",
         "a58f9c8d-592b-480d-a844-bee537ec4334",
         "Florentino",
         "Vera Isern",
         "1998-12-01",
         "florentinoveraisern@mail.com"
        ],
        [
         "262",
         "d09c7cf0-728f-4f55-bce8-2312c5835d50",
         "Pastora",
         "Manzano Gibert",
         "2000-01-02",
         "pastoramanzanogibert@mail.com"
        ],
        [
         "1295",
         "bb77c631-1f72-4d9a-9923-3ef10c4f5963",
         "Martín",
         "Aparicio Márquez",
         "1963-12-18",
         "martínapariciomárquez@mail.com"
        ],
        [
         "11459",
         "d52c2a46-e7eb-446b-b953-7c9b7a69dcbb",
         "Marta",
         "Palacio Toro",
         "1962-11-11",
         "martapalaciotoro@mail.com"
        ]
       ],
       "shape": {
        "columns": 5,
        "rows": 10
       }
      },
      "text/html": [
       "<div>\n",
       "<style scoped>\n",
       "    .dataframe tbody tr th:only-of-type {\n",
       "        vertical-align: middle;\n",
       "    }\n",
       "\n",
       "    .dataframe tbody tr th {\n",
       "        vertical-align: top;\n",
       "    }\n",
       "\n",
       "    .dataframe thead th {\n",
       "        text-align: right;\n",
       "    }\n",
       "</style>\n",
       "<table border=\"1\" class=\"dataframe\">\n",
       "  <thead>\n",
       "    <tr style=\"text-align: right;\">\n",
       "      <th></th>\n",
       "      <th>id_cliente</th>\n",
       "      <th>nombre</th>\n",
       "      <th>apellido</th>\n",
       "      <th>fecha_nacimiento</th>\n",
       "      <th>mail</th>\n",
       "    </tr>\n",
       "  </thead>\n",
       "  <tbody>\n",
       "    <tr>\n",
       "      <th>7800</th>\n",
       "      <td>abe9d921-884a-4191-9301-0143e95bbfcb</td>\n",
       "      <td>Susanita</td>\n",
       "      <td>de Casares</td>\n",
       "      <td>1983-03-22</td>\n",
       "      <td>susanitadecasares@mail.com</td>\n",
       "    </tr>\n",
       "    <tr>\n",
       "      <th>493</th>\n",
       "      <td>9136d8d2-6383-4971-b5c7-371b9e9ee1d7</td>\n",
       "      <td>Telmo</td>\n",
       "      <td>Hidalgo Solera</td>\n",
       "      <td>1989-10-29</td>\n",
       "      <td>telmohidalgosolera@mail.com</td>\n",
       "    </tr>\n",
       "    <tr>\n",
       "      <th>1500</th>\n",
       "      <td>c19d8c73-5548-450a-8086-589c9c85ced3</td>\n",
       "      <td>Óscar</td>\n",
       "      <td>Rosselló Abril</td>\n",
       "      <td>1961-01-17</td>\n",
       "      <td>óscarrossellóabril@mail.com</td>\n",
       "    </tr>\n",
       "    <tr>\n",
       "      <th>1368</th>\n",
       "      <td>77a0ddce-8a28-43c9-81d1-c5a38e994758</td>\n",
       "      <td>Hortensia</td>\n",
       "      <td>Serra Guzman</td>\n",
       "      <td>1971-08-02</td>\n",
       "      <td>hortensiaserraguzman@mail.com</td>\n",
       "    </tr>\n",
       "    <tr>\n",
       "      <th>9919</th>\n",
       "      <td>557c524b-7bb5-4b71-80f9-fb33fd595d0d</td>\n",
       "      <td>Guiomar</td>\n",
       "      <td>Salazar Jara</td>\n",
       "      <td>1990-11-02</td>\n",
       "      <td>guiomarsalazarjara@mail.com</td>\n",
       "    </tr>\n",
       "    <tr>\n",
       "      <th>338</th>\n",
       "      <td>58e22293-f29e-4b69-b8f7-f4ab1133cac2</td>\n",
       "      <td>Flavio</td>\n",
       "      <td>del Gimeno</td>\n",
       "      <td>1980-04-25</td>\n",
       "      <td>flaviodelgimeno@mail.com</td>\n",
       "    </tr>\n",
       "    <tr>\n",
       "      <th>7051</th>\n",
       "      <td>a58f9c8d-592b-480d-a844-bee537ec4334</td>\n",
       "      <td>Florentino</td>\n",
       "      <td>Vera Isern</td>\n",
       "      <td>1998-12-01</td>\n",
       "      <td>florentinoveraisern@mail.com</td>\n",
       "    </tr>\n",
       "    <tr>\n",
       "      <th>262</th>\n",
       "      <td>d09c7cf0-728f-4f55-bce8-2312c5835d50</td>\n",
       "      <td>Pastora</td>\n",
       "      <td>Manzano Gibert</td>\n",
       "      <td>2000-01-02</td>\n",
       "      <td>pastoramanzanogibert@mail.com</td>\n",
       "    </tr>\n",
       "    <tr>\n",
       "      <th>1295</th>\n",
       "      <td>bb77c631-1f72-4d9a-9923-3ef10c4f5963</td>\n",
       "      <td>Martín</td>\n",
       "      <td>Aparicio Márquez</td>\n",
       "      <td>1963-12-18</td>\n",
       "      <td>martínapariciomárquez@mail.com</td>\n",
       "    </tr>\n",
       "    <tr>\n",
       "      <th>11459</th>\n",
       "      <td>d52c2a46-e7eb-446b-b953-7c9b7a69dcbb</td>\n",
       "      <td>Marta</td>\n",
       "      <td>Palacio Toro</td>\n",
       "      <td>1962-11-11</td>\n",
       "      <td>martapalaciotoro@mail.com</td>\n",
       "    </tr>\n",
       "  </tbody>\n",
       "</table>\n",
       "</div>"
      ],
      "text/plain": [
       "                                 id_cliente      nombre          apellido  \\\n",
       "7800   abe9d921-884a-4191-9301-0143e95bbfcb    Susanita        de Casares   \n",
       "493    9136d8d2-6383-4971-b5c7-371b9e9ee1d7       Telmo    Hidalgo Solera   \n",
       "1500   c19d8c73-5548-450a-8086-589c9c85ced3       Óscar    Rosselló Abril   \n",
       "1368   77a0ddce-8a28-43c9-81d1-c5a38e994758   Hortensia      Serra Guzman   \n",
       "9919   557c524b-7bb5-4b71-80f9-fb33fd595d0d     Guiomar      Salazar Jara   \n",
       "338    58e22293-f29e-4b69-b8f7-f4ab1133cac2      Flavio        del Gimeno   \n",
       "7051   a58f9c8d-592b-480d-a844-bee537ec4334  Florentino        Vera Isern   \n",
       "262    d09c7cf0-728f-4f55-bce8-2312c5835d50     Pastora    Manzano Gibert   \n",
       "1295   bb77c631-1f72-4d9a-9923-3ef10c4f5963      Martín  Aparicio Márquez   \n",
       "11459  d52c2a46-e7eb-446b-b953-7c9b7a69dcbb       Marta      Palacio Toro   \n",
       "\n",
       "      fecha_nacimiento                            mail  \n",
       "7800        1983-03-22      susanitadecasares@mail.com  \n",
       "493         1989-10-29     telmohidalgosolera@mail.com  \n",
       "1500        1961-01-17     óscarrossellóabril@mail.com  \n",
       "1368        1971-08-02   hortensiaserraguzman@mail.com  \n",
       "9919        1990-11-02     guiomarsalazarjara@mail.com  \n",
       "338         1980-04-25        flaviodelgimeno@mail.com  \n",
       "7051        1998-12-01    florentinoveraisern@mail.com  \n",
       "262         2000-01-02   pastoramanzanogibert@mail.com  \n",
       "1295        1963-12-18  martínapariciomárquez@mail.com  \n",
       "11459       1962-11-11       martapalaciotoro@mail.com  "
      ]
     },
     "execution_count": 107,
     "metadata": {},
     "output_type": "execute_result"
    }
   ],
   "source": [
    "tabla_clientes.sample(10)"
   ]
  },
  {
   "cell_type": "code",
   "execution_count": 108,
   "metadata": {},
   "outputs": [],
   "source": [
    "insert_query =\"\"\"\n",
    "                  INSERT INTO clientes(id_cliente, nombre, apellido, fecha_nacimiento, mail)\n",
    "                  VALUES(%s, %s, %s, %s, %s)               \n",
    "\"\"\"\n"
   ]
  },
  {
   "cell_type": "code",
   "execution_count": 109,
   "metadata": {},
   "outputs": [
    {
     "name": "stdout",
     "output_type": "stream",
     "text": [
      "[('77150ed6-c644-42d4-857e-fc73890b808c', 'Zoraida', 'Roselló-Piquer', '1964-07-08', 'zoraidaroselló-piquer@mail.com'), ('0728f6c5-6fc4-4370-82c1-fb25b1b8a2a7', 'Hermenegildo', 'Alegria Pi', '1961-02-03', 'hermenegildoalegriapi@mail.com'), ('23178f23-f716-49f2-9db3-e2808debf0e3', 'Matías', 'Solís Guardiola', '1997-11-09', 'matíassolísguardiola@mail.com')]\n"
     ]
    }
   ],
   "source": [
    "data_to_insert = [] \n",
    "\n",
    "for index, row in tabla_clientes.iterrows():\n",
    "    data_to_insert.append((row['id_cliente'], row['nombre'], row['apellido'], row['fecha_nacimiento'], row['mail']))\n",
    "\n",
    "# Verifica los primeros datos antes de insertarlos\n",
    "print(data_to_insert[:3])"
   ]
  },
  {
   "cell_type": "code",
   "execution_count": 110,
   "metadata": {},
   "outputs": [
    {
     "ename": "UniqueViolation",
     "evalue": "duplicate key value violates unique constraint \"clientes_pkey\"\nDETAIL:  Key (id_cliente)=(77150ed6-c644-42d4-857e-fc73890b808c) already exists.\n",
     "output_type": "error",
     "traceback": [
      "\u001b[0;31m---------------------------------------------------------------------------\u001b[0m",
      "\u001b[0;31mUniqueViolation\u001b[0m                           Traceback (most recent call last)",
      "Cell \u001b[0;32mIn[110], line 1\u001b[0m\n\u001b[0;32m----> 1\u001b[0m \u001b[43mcur\u001b[49m\u001b[38;5;241;43m.\u001b[39;49m\u001b[43mexecutemany\u001b[49m\u001b[43m(\u001b[49m\u001b[43minsert_query\u001b[49m\u001b[43m,\u001b[49m\u001b[43m \u001b[49m\u001b[43mdata_to_insert\u001b[49m\u001b[43m)\u001b[49m\n\u001b[1;32m      2\u001b[0m conn\u001b[38;5;241m.\u001b[39mcommit()\n",
      "\u001b[0;31mUniqueViolation\u001b[0m: duplicate key value violates unique constraint \"clientes_pkey\"\nDETAIL:  Key (id_cliente)=(77150ed6-c644-42d4-857e-fc73890b808c) already exists.\n"
     ]
    }
   ],
   "source": [
    "cur.executemany(insert_query, data_to_insert)\n",
    "conn.commit()"
   ]
  },
  {
   "cell_type": "code",
   "execution_count": null,
   "metadata": {},
   "outputs": [],
   "source": [
    "conn.rollback()"
   ]
  },
  {
   "cell_type": "code",
   "execution_count": null,
   "metadata": {},
   "outputs": [
    {
     "data": {
      "text/plain": [
       "[('77150ed6-c644-42d4-857e-fc73890b808c',\n",
       "  'Zoraida',\n",
       "  'Roselló-Piquer',\n",
       "  datetime.date(1964, 7, 8),\n",
       "  'zoraidaroselló-piquer@mail.com'),\n",
       " ('0728f6c5-6fc4-4370-82c1-fb25b1b8a2a7',\n",
       "  'Hermenegildo',\n",
       "  'Alegria Pi',\n",
       "  datetime.date(1961, 2, 3),\n",
       "  'hermenegildoalegriapi@mail.com'),\n",
       " ('23178f23-f716-49f2-9db3-e2808debf0e3',\n",
       "  'Matías',\n",
       "  'Solís Guardiola',\n",
       "  datetime.date(1997, 11, 9),\n",
       "  'matíassolísguardiola@mail.com')]"
      ]
     },
     "execution_count": 16,
     "metadata": {},
     "output_type": "execute_result"
    }
   ],
   "source": [
    "#Query de comprobación:\n",
    "query_com = \"\"\" \n",
    "                    SELECT * FROM clientes\n",
    "\"\"\"\n",
    "cur.execute(query_com)\n",
    "cur.fetchmany(3)"
   ]
  },
  {
   "cell_type": "code",
   "execution_count": null,
   "metadata": {},
   "outputs": [
    {
     "data": {
      "application/vnd.microsoft.datawrangler.viewer.v0+json": {
       "columns": [
        {
         "name": "index",
         "rawType": "int64",
         "type": "integer"
        },
        {
         "name": "municipio",
         "rawType": "object",
         "type": "string"
        },
        {
         "name": "provincia",
         "rawType": "object",
         "type": "string"
        },
        {
         "name": "comunidad_autonoma",
         "rawType": "object",
         "type": "string"
        }
       ],
       "conversionMethod": "pd.DataFrame",
       "ref": "709693c1-a15b-49fe-abc9-c9e3ba32b942",
       "rows": [
        [
         "0",
         "Madrid",
         "Comunidad de Madrid",
         "Comunidad de Madrid"
        ],
        [
         "1",
         "Murcia",
         "Región de Murcia",
         "Región de Murcia"
        ],
        [
         "2",
         "Palma de Mallorca",
         "Islas Baleares",
         "Islas Baleares"
        ],
        [
         "3",
         "Gijón",
         "Principado de Asturias",
         "Principado de Asturias"
        ],
        [
         "4",
         "Oviedo",
         "Principado de Asturias",
         "Principado de Asturias"
        ]
       ],
       "shape": {
        "columns": 3,
        "rows": 5
       }
      },
      "text/html": [
       "<div>\n",
       "<style scoped>\n",
       "    .dataframe tbody tr th:only-of-type {\n",
       "        vertical-align: middle;\n",
       "    }\n",
       "\n",
       "    .dataframe tbody tr th {\n",
       "        vertical-align: top;\n",
       "    }\n",
       "\n",
       "    .dataframe thead th {\n",
       "        text-align: right;\n",
       "    }\n",
       "</style>\n",
       "<table border=\"1\" class=\"dataframe\">\n",
       "  <thead>\n",
       "    <tr style=\"text-align: right;\">\n",
       "      <th></th>\n",
       "      <th>municipio</th>\n",
       "      <th>provincia</th>\n",
       "      <th>comunidad_autonoma</th>\n",
       "    </tr>\n",
       "  </thead>\n",
       "  <tbody>\n",
       "    <tr>\n",
       "      <th>0</th>\n",
       "      <td>Madrid</td>\n",
       "      <td>Comunidad de Madrid</td>\n",
       "      <td>Comunidad de Madrid</td>\n",
       "    </tr>\n",
       "    <tr>\n",
       "      <th>1</th>\n",
       "      <td>Murcia</td>\n",
       "      <td>Región de Murcia</td>\n",
       "      <td>Región de Murcia</td>\n",
       "    </tr>\n",
       "    <tr>\n",
       "      <th>2</th>\n",
       "      <td>Palma de Mallorca</td>\n",
       "      <td>Islas Baleares</td>\n",
       "      <td>Islas Baleares</td>\n",
       "    </tr>\n",
       "    <tr>\n",
       "      <th>3</th>\n",
       "      <td>Gijón</td>\n",
       "      <td>Principado de Asturias</td>\n",
       "      <td>Principado de Asturias</td>\n",
       "    </tr>\n",
       "    <tr>\n",
       "      <th>4</th>\n",
       "      <td>Oviedo</td>\n",
       "      <td>Principado de Asturias</td>\n",
       "      <td>Principado de Asturias</td>\n",
       "    </tr>\n",
       "  </tbody>\n",
       "</table>\n",
       "</div>"
      ],
      "text/plain": [
       "           municipio               provincia      comunidad_autonoma\n",
       "0             Madrid     Comunidad de Madrid     Comunidad de Madrid\n",
       "1             Murcia        Región de Murcia        Región de Murcia\n",
       "2  Palma de Mallorca          Islas Baleares          Islas Baleares\n",
       "3              Gijón  Principado de Asturias  Principado de Asturias\n",
       "4             Oviedo  Principado de Asturias  Principado de Asturias"
      ]
     },
     "execution_count": 19,
     "metadata": {},
     "output_type": "execute_result"
    }
   ],
   "source": [
    "#Cargamos el archivo\n",
    "df_region = pd.read_csv(\"../datos/muni_provincia_ccaa.csv\", )\n",
    "df_region.head()"
   ]
  },
  {
   "cell_type": "code",
   "execution_count": null,
   "metadata": {},
   "outputs": [
    {
     "data": {
      "application/vnd.microsoft.datawrangler.viewer.v0+json": {
       "columns": [
        {
         "name": "index",
         "rawType": "int64",
         "type": "integer"
        },
        {
         "name": "comunidad_autonoma",
         "rawType": "object",
         "type": "string"
        }
       ],
       "conversionMethod": "pd.DataFrame",
       "ref": "07936c9d-9838-4d41-ace0-546e2b11cbe1",
       "rows": [
        [
         "0",
         "Comunidad de Madrid"
        ],
        [
         "1",
         "Región de Murcia"
        ],
        [
         "2",
         "Islas Baleares"
        ],
        [
         "3",
         "Principado de Asturias"
        ],
        [
         "4",
         "Navarra"
        ],
        [
         "5",
         "Almería"
        ],
        [
         "6",
         "Cantabria"
        ],
        [
         "7",
         "La Rioja"
        ],
        [
         "8",
         "Melilla"
        ],
        [
         "9",
         "Ceuta"
        ]
       ],
       "shape": {
        "columns": 1,
        "rows": 10
       }
      },
      "text/html": [
       "<div>\n",
       "<style scoped>\n",
       "    .dataframe tbody tr th:only-of-type {\n",
       "        vertical-align: middle;\n",
       "    }\n",
       "\n",
       "    .dataframe tbody tr th {\n",
       "        vertical-align: top;\n",
       "    }\n",
       "\n",
       "    .dataframe thead th {\n",
       "        text-align: right;\n",
       "    }\n",
       "</style>\n",
       "<table border=\"1\" class=\"dataframe\">\n",
       "  <thead>\n",
       "    <tr style=\"text-align: right;\">\n",
       "      <th></th>\n",
       "      <th>comunidad_autonoma</th>\n",
       "    </tr>\n",
       "  </thead>\n",
       "  <tbody>\n",
       "    <tr>\n",
       "      <th>0</th>\n",
       "      <td>Comunidad de Madrid</td>\n",
       "    </tr>\n",
       "    <tr>\n",
       "      <th>1</th>\n",
       "      <td>Región de Murcia</td>\n",
       "    </tr>\n",
       "    <tr>\n",
       "      <th>2</th>\n",
       "      <td>Islas Baleares</td>\n",
       "    </tr>\n",
       "    <tr>\n",
       "      <th>3</th>\n",
       "      <td>Principado de Asturias</td>\n",
       "    </tr>\n",
       "    <tr>\n",
       "      <th>4</th>\n",
       "      <td>Navarra</td>\n",
       "    </tr>\n",
       "    <tr>\n",
       "      <th>5</th>\n",
       "      <td>Almería</td>\n",
       "    </tr>\n",
       "    <tr>\n",
       "      <th>6</th>\n",
       "      <td>Cantabria</td>\n",
       "    </tr>\n",
       "    <tr>\n",
       "      <th>7</th>\n",
       "      <td>La Rioja</td>\n",
       "    </tr>\n",
       "    <tr>\n",
       "      <th>8</th>\n",
       "      <td>Melilla</td>\n",
       "    </tr>\n",
       "    <tr>\n",
       "      <th>9</th>\n",
       "      <td>Ceuta</td>\n",
       "    </tr>\n",
       "  </tbody>\n",
       "</table>\n",
       "</div>"
      ],
      "text/plain": [
       "       comunidad_autonoma\n",
       "0     Comunidad de Madrid\n",
       "1        Región de Murcia\n",
       "2          Islas Baleares\n",
       "3  Principado de Asturias\n",
       "4                 Navarra\n",
       "5                 Almería\n",
       "6               Cantabria\n",
       "7                La Rioja\n",
       "8                 Melilla\n",
       "9                   Ceuta"
      ]
     },
     "execution_count": 20,
     "metadata": {},
     "output_type": "execute_result"
    }
   ],
   "source": [
    "tabla_ccaa = pd.DataFrame(df_region[\"comunidad_autonoma\"].unique(),\n",
    "                          columns=[\"comunidad_autonoma\"])\n",
    "\n",
    "tabla_ccaa"
   ]
  },
  {
   "cell_type": "code",
   "execution_count": null,
   "metadata": {},
   "outputs": [],
   "source": [
    "insert_query = \"\"\"\n",
    "                    INSERT INTO comunidades_autonomas (ccaa)\n",
    "                    VALUES (%s)\n",
    "                    \"\"\""
   ]
  },
  {
   "cell_type": "code",
   "execution_count": null,
   "metadata": {},
   "outputs": [],
   "source": [
    "data_to_insert = [(row[\"comunidad_autonoma\"],) for _, row in tabla_ccaa.iterrows()]\n"
   ]
  },
  {
   "cell_type": "code",
   "execution_count": null,
   "metadata": {},
   "outputs": [],
   "source": [
    "cur.executemany(insert_query, data_to_insert)\n",
    "conn.commit()"
   ]
  },
  {
   "cell_type": "code",
   "execution_count": null,
   "metadata": {},
   "outputs": [
    {
     "data": {
      "text/plain": [
       "[(1, 'Comunidad de Madrid'),\n",
       " (2, 'Región de Murcia'),\n",
       " (3, 'Islas Baleares'),\n",
       " (4, 'Principado de Asturias'),\n",
       " (5, 'Navarra'),\n",
       " (6, 'Almería'),\n",
       " (7, 'Cantabria'),\n",
       " (8, 'La Rioja'),\n",
       " (9, 'Melilla'),\n",
       " (10, 'Ceuta')]"
      ]
     },
     "execution_count": 43,
     "metadata": {},
     "output_type": "execute_result"
    }
   ],
   "source": [
    "query_comprobacion = \"\"\"\n",
    "                        SELECT * FROM comunidades_autonomas \n",
    "\"\"\"\n",
    "cur.execute(query_comprobacion)\n",
    "cur.fetchall()\n"
   ]
  },
  {
   "cell_type": "code",
   "execution_count": null,
   "metadata": {},
   "outputs": [],
   "source": [
    "conn.rollback()"
   ]
  },
  {
   "cell_type": "markdown",
   "metadata": {},
   "source": [
    "## Provincias"
   ]
  },
  {
   "cell_type": "code",
   "execution_count": null,
   "metadata": {},
   "outputs": [
    {
     "data": {
      "text/plain": [
       "Index(['municipio', 'provincia', 'comunidad_autonoma'], dtype='object')"
      ]
     },
     "execution_count": 94,
     "metadata": {},
     "output_type": "execute_result"
    }
   ],
   "source": [
    "df_region.columns"
   ]
  },
  {
   "cell_type": "code",
   "execution_count": 115,
   "metadata": {},
   "outputs": [
    {
     "data": {
      "text/plain": [
       "{'Comunidad de Madrid': 1,\n",
       " 'Región de Murcia': 2,\n",
       " 'Islas Baleares': 3,\n",
       " 'Principado de Asturias': 4,\n",
       " 'Navarra': 5,\n",
       " 'Almería': 6,\n",
       " 'Cantabria': 7,\n",
       " 'La Rioja': 8,\n",
       " 'Melilla': 9,\n",
       " 'Ceuta': 10}"
      ]
     },
     "execution_count": 115,
     "metadata": {},
     "output_type": "execute_result"
    }
   ],
   "source": [
    "cur.execute(\"SELECT ccaa, id_ccaa FROM comunidades_autonomas\")\n",
    "ccaa_dict = dict(cur.fetchall())\n",
    "ccaa_dict"
   ]
  },
  {
   "cell_type": "code",
   "execution_count": 114,
   "metadata": {},
   "outputs": [],
   "source": [
    "conn.rollback()"
   ]
  },
  {
   "cell_type": "code",
   "execution_count": null,
   "metadata": {},
   "outputs": [
    {
     "name": "stdout",
     "output_type": "stream",
     "text": [
      "<class 'pandas.core.frame.DataFrame'>\n",
      "Index: 10 entries, 0 to 27\n",
      "Data columns (total 2 columns):\n",
      " #   Column              Non-Null Count  Dtype \n",
      "---  ------              --------------  ----- \n",
      " 0   provincia           10 non-null     object\n",
      " 1   comunidad_autonoma  10 non-null     object\n",
      "dtypes: object(2)\n",
      "memory usage: 240.0+ bytes\n"
     ]
    }
   ],
   "source": [
    "df_provincias = df_region[[\"provincia\", \"comunidad_autonoma\"]].drop_duplicates()\n",
    "df_provincias.info()"
   ]
  },
  {
   "cell_type": "code",
   "execution_count": null,
   "metadata": {},
   "outputs": [
    {
     "data": {
      "text/plain": [
       "10"
      ]
     },
     "execution_count": 68,
     "metadata": {},
     "output_type": "execute_result"
    }
   ],
   "source": [
    "data_to_insert = []\n",
    "\n",
    "for _, row in df_provincias.iterrows():\n",
    "    provincia = row[\"provincia\"]\n",
    "    comunidad_autonoma = row[\"comunidad_autonoma\"]\n",
    "    id_ccaa = ccaa_dict.get(comunidad_autonoma)\n",
    "    data_to_insert.append([provincia, id_ccaa])\n",
    "len(data_to_insert)\n",
    "\n"
   ]
  },
  {
   "cell_type": "code",
   "execution_count": null,
   "metadata": {},
   "outputs": [],
   "source": [
    "insert_query = \"\"\" \n",
    "                    INSERT INTO provincias (provincia, id_ccaa)\n",
    "                    values (%s, %s)\n",
    "\"\"\"\n",
    "\n",
    "cur.executemany(insert_query, data_to_insert)\n",
    "\n"
   ]
  },
  {
   "cell_type": "code",
   "execution_count": null,
   "metadata": {},
   "outputs": [],
   "source": [
    "conn.commit()"
   ]
  },
  {
   "cell_type": "markdown",
   "metadata": {},
   "source": [
    "## Municipios"
   ]
  },
  {
   "cell_type": "code",
   "execution_count": 123,
   "metadata": {},
   "outputs": [
    {
     "data": {
      "application/vnd.microsoft.datawrangler.viewer.v0+json": {
       "columns": [
        {
         "name": "index",
         "rawType": "int64",
         "type": "integer"
        },
        {
         "name": "municipio",
         "rawType": "object",
         "type": "string"
        },
        {
         "name": "provincia",
         "rawType": "object",
         "type": "string"
        },
        {
         "name": "comunidad_autonoma",
         "rawType": "object",
         "type": "string"
        }
       ],
       "conversionMethod": "pd.DataFrame",
       "ref": "4e4a1152-b07d-430b-bef4-6935f66b4830",
       "rows": [
        [
         "0",
         "Madrid",
         "Comunidad de Madrid",
         "Comunidad de Madrid"
        ],
        [
         "1",
         "Murcia",
         "Región de Murcia",
         "Región de Murcia"
        ],
        [
         "2",
         "Palma de Mallorca",
         "Islas Baleares",
         "Islas Baleares"
        ],
        [
         "3",
         "Gijón",
         "Principado de Asturias",
         "Principado de Asturias"
        ],
        [
         "4",
         "Oviedo",
         "Principado de Asturias",
         "Principado de Asturias"
        ]
       ],
       "shape": {
        "columns": 3,
        "rows": 5
       }
      },
      "text/html": [
       "<div>\n",
       "<style scoped>\n",
       "    .dataframe tbody tr th:only-of-type {\n",
       "        vertical-align: middle;\n",
       "    }\n",
       "\n",
       "    .dataframe tbody tr th {\n",
       "        vertical-align: top;\n",
       "    }\n",
       "\n",
       "    .dataframe thead th {\n",
       "        text-align: right;\n",
       "    }\n",
       "</style>\n",
       "<table border=\"1\" class=\"dataframe\">\n",
       "  <thead>\n",
       "    <tr style=\"text-align: right;\">\n",
       "      <th></th>\n",
       "      <th>municipio</th>\n",
       "      <th>provincia</th>\n",
       "      <th>comunidad_autonoma</th>\n",
       "    </tr>\n",
       "  </thead>\n",
       "  <tbody>\n",
       "    <tr>\n",
       "      <th>0</th>\n",
       "      <td>Madrid</td>\n",
       "      <td>Comunidad de Madrid</td>\n",
       "      <td>Comunidad de Madrid</td>\n",
       "    </tr>\n",
       "    <tr>\n",
       "      <th>1</th>\n",
       "      <td>Murcia</td>\n",
       "      <td>Región de Murcia</td>\n",
       "      <td>Región de Murcia</td>\n",
       "    </tr>\n",
       "    <tr>\n",
       "      <th>2</th>\n",
       "      <td>Palma de Mallorca</td>\n",
       "      <td>Islas Baleares</td>\n",
       "      <td>Islas Baleares</td>\n",
       "    </tr>\n",
       "    <tr>\n",
       "      <th>3</th>\n",
       "      <td>Gijón</td>\n",
       "      <td>Principado de Asturias</td>\n",
       "      <td>Principado de Asturias</td>\n",
       "    </tr>\n",
       "    <tr>\n",
       "      <th>4</th>\n",
       "      <td>Oviedo</td>\n",
       "      <td>Principado de Asturias</td>\n",
       "      <td>Principado de Asturias</td>\n",
       "    </tr>\n",
       "  </tbody>\n",
       "</table>\n",
       "</div>"
      ],
      "text/plain": [
       "           municipio               provincia      comunidad_autonoma\n",
       "0             Madrid     Comunidad de Madrid     Comunidad de Madrid\n",
       "1             Murcia        Región de Murcia        Región de Murcia\n",
       "2  Palma de Mallorca          Islas Baleares          Islas Baleares\n",
       "3              Gijón  Principado de Asturias  Principado de Asturias\n",
       "4             Oviedo  Principado de Asturias  Principado de Asturias"
      ]
     },
     "execution_count": 123,
     "metadata": {},
     "output_type": "execute_result"
    }
   ],
   "source": [
    "df_region.head()"
   ]
  },
  {
   "cell_type": "code",
   "execution_count": 112,
   "metadata": {},
   "outputs": [
    {
     "data": {
      "text/plain": [
       "True"
      ]
     },
     "execution_count": 112,
     "metadata": {},
     "output_type": "execute_result"
    }
   ],
   "source": [
    "df_region[\"municipio\"].nunique() == df_region.shape[0]"
   ]
  },
  {
   "cell_type": "code",
   "execution_count": 120,
   "metadata": {},
   "outputs": [
    {
     "data": {
      "text/plain": [
       "{'Comunidad de Madrid': 327,\n",
       " 'Región de Murcia': 328,\n",
       " 'Islas Baleares': 329,\n",
       " 'Principado de Asturias': 330,\n",
       " 'Navarra': 331,\n",
       " 'Almería': 332,\n",
       " 'Cantabria': 333,\n",
       " 'La Rioja': 334,\n",
       " 'Melilla': 335,\n",
       " 'Ceuta': 336}"
      ]
     },
     "execution_count": 120,
     "metadata": {},
     "output_type": "execute_result"
    }
   ],
   "source": [
    "cur.execute(\"SELECT provincia, id_provincia FROM provincias\") #el orden es así para que salga en el mismo orden que en la tabla\n",
    "provincia_dict = dict(cur.fetchall()) #convierte en un alista de tuplas todo el execute de arriba.\n",
    "provincia_dict\n"
   ]
  },
  {
   "cell_type": "code",
   "execution_count": 131,
   "metadata": {},
   "outputs": [],
   "source": [
    "data_to_insert = []\n",
    "\n",
    "for _, row in df_region.iterrows():\n",
    "    municipio = row[\"municipio\"]\n",
    "    id_provincia = provincia_dict.get(row[\"provincia\"])\n",
    "\n",
    "    data_to_insert.append([municipio, id_provincia])\n",
    "\n",
    "    #falta meter latitud y longitud"
   ]
  },
  {
   "cell_type": "code",
   "execution_count": 128,
   "metadata": {},
   "outputs": [],
   "source": [
    "insert_query = \"\"\" \n",
    "                    INSERT INTO municipios (municipio, id_provincia)\n",
    "                    values (%s, %s)\n",
    "\"\"\"\n",
    "\n",
    "cur.executemany(insert_query, data_to_insert)\n",
    "conn.commit()"
   ]
  },
  {
   "cell_type": "markdown",
   "metadata": {},
   "source": [
    "### VENTAS"
   ]
  },
  {
   "cell_type": "code",
   "execution_count": 132,
   "metadata": {},
   "outputs": [
    {
     "data": {
      "text/plain": [
       "Index(['id_venta', 'fecha_venta', 'fecha_entrega_prevista',\n",
       "       'fecha_entrega_real', 'id_cliente', 'fecha_nacimiento', 'mail',\n",
       "       'categoria_producto', 'nombre_producto', 'precio_unitario', 'descuento',\n",
       "       'cantidad_comprada', 'municipio', 'monto_total', 'nombre', 'apellido'],\n",
       "      dtype='object')"
      ]
     },
     "execution_count": 132,
     "metadata": {},
     "output_type": "execute_result"
    }
   ],
   "source": [
    "df_ventas.columns"
   ]
  },
  {
   "cell_type": "code",
   "execution_count": null,
   "metadata": {},
   "outputs": [],
   "source": [
    "cur.close()\n",
    "conn.close()"
   ]
  }
 ],
 "metadata": {
  "kernelspec": {
   "display_name": "Python 3",
   "language": "python",
   "name": "python3"
  },
  "language_info": {
   "codemirror_mode": {
    "name": "ipython",
    "version": 3
   },
   "file_extension": ".py",
   "mimetype": "text/x-python",
   "name": "python",
   "nbconvert_exporter": "python",
   "pygments_lexer": "ipython3",
   "version": "3.9.6"
  }
 },
 "nbformat": 4,
 "nbformat_minor": 2
}
